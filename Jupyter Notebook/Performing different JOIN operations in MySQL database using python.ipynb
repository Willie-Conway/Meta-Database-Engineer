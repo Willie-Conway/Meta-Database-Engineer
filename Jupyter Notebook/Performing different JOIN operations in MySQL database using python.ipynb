{
 "cells": [
  {
   "cell_type": "markdown",
   "id": "860cc28a-04c1-4b26-9f3a-b3b2a4edd46f",
   "metadata": {},
   "source": [
    "## Performing different JOIN operations in MySQL database using python"
   ]
  },
  {
   "cell_type": "markdown",
   "id": "13d9737c-69e9-4b94-9efe-1f2eee44bdfd",
   "metadata": {},
   "source": [
    "## Prerequisites \n",
    "\n",
    "To complete this exercise, you must have access to the `little_lemon` database. You need to import MySQL Python/Connector and, as an authorized user, establish a connection between Python and the MySQL database via connector API using the following code: "
   ]
  },
  {
   "cell_type": "code",
   "execution_count": 1,
   "id": "868cf7ea-627c-456e-ad32-18c6e68dff01",
   "metadata": {},
   "outputs": [],
   "source": [
    "import mysql.connector as connector"
   ]
  },
  {
   "cell_type": "code",
   "execution_count": 2,
   "id": "d4d9f9d5-7c03-419d-a0a9-97fa7c5c5494",
   "metadata": {},
   "outputs": [],
   "source": [
    "# Establish connection b/w Python and MySQL database via connector API\n",
    "connection=connector.connect(\n",
    "                             user=\"root\", # use your own\n",
    "                             password=\"Admin@LL123!\", # use your own\n",
    "                            )"
   ]
  },
  {
   "cell_type": "markdown",
   "id": "1a408648-967b-46f6-a92e-3a561a38d30d",
   "metadata": {},
   "source": [
    "Once, the connection is established, create a `cursor` object to communicate with the entire MySQL database from your python working environment. "
   ]
  },
  {
   "cell_type": "code",
   "execution_count": 3,
   "id": "61a68998-3e81-4dec-aab0-5898fb7c13e3",
   "metadata": {},
   "outputs": [],
   "source": [
    "# Create cursor object to communicate with entire MySQL database\n",
    "cursor = connection.cursor()"
   ]
  },
  {
   "cell_type": "markdown",
   "id": "a5b0fa7d-fbd5-4b44-b67e-eaec00797fb4",
   "metadata": {},
   "source": [
    "Now, you can select the database `little_lemon` using the code below and work with the respective tables to accomplish the required tasks. "
   ]
  },
  {
   "cell_type": "code",
   "execution_count": 4,
   "id": "b667aebc-7f13-4aa6-9e8a-0af44b3c779c",
   "metadata": {},
   "outputs": [
    {
     "data": {
      "text/plain": [
       "'little_lemon'"
      ]
     },
     "execution_count": 4,
     "metadata": {},
     "output_type": "execute_result"
    }
   ],
   "source": [
    "# Set little_lemon database for use \n",
    "cursor.execute(\"use little_lemon\")\n",
    "\n",
    "# Confirm the database in use\n",
    "connection.database"
   ]
  },
  {
   "cell_type": "markdown",
   "id": "7043a782-32ea-4342-b5b1-964a0d264e6c",
   "metadata": {},
   "source": [
    "## Scenario \n",
    "\n",
    "Little Lemon needs to carry out the following tasks with their datasets: \n",
    "\n",
    "* Determine the final bill amount for each customer who attended the restaurant today \n",
    "* Identify the type of cuisine that each item in their menu belongs to. \n",
    "\n",
    "Help Little Lemon to complete these tasks using “JOIN” operations on the restaurant’s MySQL database using Python. "
   ]
  },
  {
   "cell_type": "markdown",
   "id": "09e1ba08-e823-488d-9a30-43ffe162e14d",
   "metadata": {},
   "source": [
    "## Task 1:\n",
    "\n",
    "Little Lemon need the following information for each of the items in their menu: \n",
    "\n",
    "* The name of each item in the menu, \n",
    "* Each menu item’s type, \n",
    "* Each menu item’s cuisine, \n",
    "* and the price of each item in the menu. \n",
    "\n",
    "Help Little Lemon to extract this data from their database using Python. \n",
    "\n",
    "**TIP:** You need to combine records from the `MenuItems` and `Menu` tables using the `JOIN` operation and show only the requested columns in the output. "
   ]
  },
  {
   "cell_type": "code",
   "execution_count": 5,
   "id": "4991f335-b6fd-4dca-a788-cb5d5e4e0878",
   "metadata": {},
   "outputs": [
    {
     "name": "stdout",
     "output_type": "stream",
     "text": [
      "('Item_Name', 'Item_Type', 'Cuisine', 'Price')\n",
      "('Olives', 'Starters', 'Greek', 5)\n",
      "('Greek salad', 'Main Courses', 'Greek', 15)\n",
      "('Greek yoghurt', 'Desserts', 'Greek', 7)\n",
      "('Athens White wine', 'Drinks', 'Greek', 25)\n",
      "('Minestrone', 'Starters', 'Italian', 8)\n",
      "('Pizza', 'Main Courses', 'Italian', 15)\n",
      "('Cheesecake', 'Desserts', 'Italian', 4)\n",
      "('Turkish Coffee', 'Drinks', 'Italian', 10)\n",
      "('Falafel', 'Starters', 'Turkish', 7)\n",
      "('Ice cream', 'Desserts', 'Turkish', 6)\n",
      "('Turkish Coffee', 'Drinks', 'Turkish', 10)\n",
      "('Kabasa', 'Main Courses', 'Turkish', 17)\n"
     ]
    }
   ],
   "source": [
    "# Task 1\n",
    "\n",
    "# The SQL query is:\n",
    "join_query=\"\"\"SELECT \n",
    "MenuItems.Name AS Item_Name, \n",
    "MenuItems.Type AS Item_Type, \n",
    "Menus.Cuisine AS Cuisine, \n",
    "MenuItems.Price AS Price \n",
    "FROM MenuItems \n",
    "INNER JOIN Menus ON MenuItems.ItemID=Menus.ItemID;\"\"\"\n",
    "\n",
    "# Execute query\n",
    "cursor.execute(join_query)\n",
    "\n",
    "# Fetch records \n",
    "results = cursor.fetchall()\n",
    "\n",
    "# Retrieve column names\n",
    "columns = cursor.column_names\n",
    "\n",
    "# Print column names\n",
    "print(columns)\n",
    "\n",
    "# Print query results\n",
    "for result in results:\n",
    "    print(result)   "
   ]
  },
  {
   "cell_type": "markdown",
   "id": "d9d8547b-d3df-4e07-8b8f-5eac4e9240ac",
   "metadata": {},
   "source": [
    "## Task 2:\n",
    "\n",
    "Little Lemon notice that there are several menu items missing from the output of the previous task. \n",
    "\n",
    "Help Little Lemon to identify these missing items by using a `JOIN` operation in Python to return data for the missing records. \n",
    "\n",
    "**TIP:** Use a `JOIN` operation to return the missing data by joining the `MenuItems` and Menu tables. "
   ]
  },
  {
   "cell_type": "code",
   "execution_count": 6,
   "id": "1833b26c-92ab-467c-8901-e3cc193ee48b",
   "metadata": {},
   "outputs": [
    {
     "name": "stdout",
     "output_type": "stream",
     "text": [
      "('Item_Name', 'Item_Type', 'Cuisine', 'Price')\n",
      "('Flatbread', 'Starters', None, 5)\n",
      "('Tomato bread', 'Starters', None, 8)\n",
      "('Hummus', 'Starters', None, 5)\n",
      "('Bean soup', 'Main Courses', None, 12)\n",
      "('Corfu Red Wine', 'Drinks', None, 30)\n"
     ]
    }
   ],
   "source": [
    "# Task 2\n",
    "# Good to specify column from the table\n",
    "# Try left, right, inner\n",
    "\n",
    "# The SQL query is:\n",
    "join_query=\"\"\"SELECT \n",
    "MenuItems.Name AS Item_Name, \n",
    "MenuItems.Type AS Item_Type, \n",
    "Menus.Cuisine AS Cuisine, \n",
    "MenuItems.Price AS Price \n",
    "FROM MenuItems \n",
    "LEFT JOIN Menus ON MenuItems.ItemID=Menus.ItemID\n",
    "WHERE Cuisine IS NULL;\"\"\"\n",
    "\n",
    "# Execute query\n",
    "cursor.execute(join_query)\n",
    "\n",
    "# Fetch records \n",
    "results = cursor.fetchall()\n",
    "\n",
    "# Retrieve column names\n",
    "columns = cursor.column_names\n",
    "\n",
    "# Print column names\n",
    "print(columns)\n",
    "\n",
    "# Print query results\n",
    "for result in results:\n",
    "    print(result)    "
   ]
  },
  {
   "cell_type": "markdown",
   "id": "f8092479-77c2-45b5-bf1b-65af2464d9bd",
   "metadata": {},
   "source": [
    "## Task 3:\n",
    "\n",
    "Little Lemon restaurant need you to help them retrieve the following information from the `Bookings` and the `Orders` tables in their MySQL database using Python: \n",
    "\n",
    "* Booking ID \n",
    "* Table number \n",
    "* Guest first name \n",
    "* Server ID \n",
    "* Bill amount  \n",
    "\n",
    "**TIP:** Combine the records from the `Bookings` and the `Orders` tables using a `JOIN` operation. The requested column `ServerID` is the `EmployeeID` column in the `Booking` table. Create an alias for this purpose.  "
   ]
  },
  {
   "cell_type": "code",
   "execution_count": 7,
   "id": "6105fd5b-a82d-4cd3-8c26-8e370e1b7eb5",
   "metadata": {},
   "outputs": [
    {
     "name": "stdout",
     "output_type": "stream",
     "text": [
      "('BookingID', 'TableNo', 'GuestFirstName', 'ServerID', 'BillAmount')\n",
      "(1, 12, 'Anna', 1, 86)\n",
      "(2, 12, 'Joakim', 1, 37)\n",
      "(3, 19, 'Vanessa', 3, 37)\n",
      "(4, 15, 'Marcos', 4, 40)\n",
      "(5, 5, 'Hiroki', 2, 43)\n",
      "(6, 8, 'Diana', 5, None)\n"
     ]
    }
   ],
   "source": [
    "# Task 3\n",
    "\n",
    "# The SQL query is:\n",
    "join_query=\"\"\"SELECT \n",
    "Bookings.BookingID,\n",
    "Bookings.TableNo,\n",
    "Bookings.GuestFirstName,\n",
    "Bookings.EmployeeID AS ServerID,\n",
    "Orders.BillAmount\n",
    "FROM Bookings\n",
    "LEFT JOIN Orders ON Bookings.BookingID = Orders.BookingID;\n",
    "\"\"\"\n",
    "\n",
    "# Execute query\n",
    "cursor.execute(join_query)\n",
    "\n",
    "# Fetch records \n",
    "results = cursor.fetchall()\n",
    "\n",
    "# Retrieve column names\n",
    "columns = cursor.column_names\n",
    "\n",
    "# Print column names\n",
    "print(columns)\n",
    "\n",
    "# Print query results\n",
    "for result in results:\n",
    "    print(result)    \n"
   ]
  },
  {
   "cell_type": "code",
   "execution_count": 8,
   "id": "c0c41181-7f0a-464c-b10a-e8262330568e",
   "metadata": {},
   "outputs": [
    {
     "name": "stdout",
     "output_type": "stream",
     "text": [
      "The cursor is closed.\n",
      "MySQL connection is closed.\n"
     ]
    }
   ],
   "source": [
    "# Let's close the cursor and the connection\n",
    "if connection.is_connected():\n",
    "    cursor.close()\n",
    "    print(\"The cursor is closed.\")\n",
    "    connection.close()\n",
    "    print(\"MySQL connection is closed.\")\n",
    "else:\n",
    "    print(\"Connection is already closed\")"
   ]
  }
 ],
 "metadata": {
  "kernelspec": {
   "display_name": "Python 3 (ipykernel)",
   "language": "python",
   "name": "python3"
  },
  "language_info": {
   "codemirror_mode": {
    "name": "ipython",
    "version": 3
   },
   "file_extension": ".py",
   "mimetype": "text/x-python",
   "name": "python",
   "nbconvert_exporter": "python",
   "pygments_lexer": "ipython3",
   "version": "3.12.4"
  }
 },
 "nbformat": 4,
 "nbformat_minor": 5
}
