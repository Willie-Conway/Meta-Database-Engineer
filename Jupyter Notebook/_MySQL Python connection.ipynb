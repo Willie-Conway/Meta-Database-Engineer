{
 "cells": [
  {
   "cell_type": "markdown",
   "id": "25717149-678f-4590-bd70-81887c727272",
   "metadata": {},
   "source": [
    "## Scenario:\n",
    "\n",
    "Little Lemon is developing a Python-based application that needs to use MySQL \n",
    "in the back end so that they can store day-to-day data on bookings, orders and \n",
    "menus in their database’s respective tables.  They have all the required components \n",
    "installed to store the data. However, they need help to establish a connection between \n",
    "Python and the MySQL server so that they can access and communicate with the database \n",
    "using Python. \n",
    "\n",
    "You are tasked to help Little Lemon to accomplish \n",
    "its business goals by establishing a secure connection \n",
    "to the MySQL database using Python.\n"
   ]
  },
  {
   "cell_type": "markdown",
   "id": "622884ae-052b-4ebf-a2cb-44a8108bb4b9",
   "metadata": {},
   "source": [
    "Note: Need to install mysql-connector-python package to run your code. "
   ]
  },
  {
   "cell_type": "code",
   "execution_count": null,
   "id": "cd844825-b959-495c-99f7-36fa4dc0f7b6",
   "metadata": {},
   "outputs": [],
   "source": [
    "!pip install mysql-connector-python"
   ]
  },
  {
   "cell_type": "markdown",
   "id": "fb2ed029-6ddd-4869-8855-cd2b58a97ab1",
   "metadata": {},
   "source": [
    "## Task 1:\n",
    "\n",
    "\n",
    "Help Little Lemon in establishing a connection to their MySQL \n",
    "database using Python, via MySQL Connector/Python API so that \n",
    "they can access data according to their business needs.  \n",
    "\n",
    "To achieve this task please fill in the following steps: \n",
    "\n",
    "* 1: import the appropriate MySQL connector \n",
    "     library using the alias connector \n",
    "\n",
    "* 2: Next, create a variable called connection \n",
    "     and use it to store an instance of the connection \n",
    "     made with the database using the connector module. \n",
    "     This module uses a method called connect() and you \n",
    "     should provide the relevant connection details.  \n",
    "\n",
    " \n",
    "\n",
    "**TIP:** You need to have an authenticated username and password \n",
    "         to establish the connection. If you don’t see any error \n",
    "         in the output while establishing the connection, your \n",
    "         connection is successfully established. "
   ]
  },
  {
   "cell_type": "code",
   "execution_count": null,
   "id": "bfea0b17-b1d1-4936-967a-ab57263b3c08",
   "metadata": {},
   "outputs": [],
   "source": [
    "# Add your code here\n",
    "# Print a message to guide the user\n",
    "# Import MySQL Connector/Python \n",
    "print(\"Importing MySQL Connector/Python API\")\n",
    "import mysql.connector as connector\n",
    "print(\"MySQL Connector/Python API is imported successfully.\\n\")\n",
    "\n",
    "# Establis connection with authorized user/password\n",
    "print(\"Establishing a new connection between MySQL and Python.\")\n",
    "#connection=connector.connect(user=\"your_username\",password=\"your_password\")\n",
    "\n",
    "connection=connector.connect(user=\"root\",password=\"\")\n",
    "print(\"A connection between MySQL and Python is successfully established\")\n"
   ]
  },
  {
   "cell_type": "markdown",
   "id": "ae40b7a5-cd61-47a6-ac45-4c374987afb3",
   "metadata": {},
   "source": [
    "## Task 2:\n",
    "\n",
    "Little Lemon is interested in writing clean safe code \n",
    "and wants to ensure that there are no connection issues \n",
    "when connecting with MySQL database. They have heard of \n",
    "    \n",
    "Python’s try/except blocks and are interested in incorporating \n",
    "them into their own code.   \n",
    "\n",
    "* 1: As above import an instance of MySQL connector using the \n",
    "     alias connector.  \n",
    "* 2: Open a try block and place the appropriate connection code there  \n",
    "\n",
    "  ```Python \n",
    "     try: \n",
    "   ```\n",
    "         // using connector.connect() make your database connection.  \n",
    "\n",
    " \n",
    "\n",
    "* 3: Now fill in the code for when an error occurs. \n",
    "     What is an appropriate message to display on the screen? \n",
    "\n",
    " \n",
    "   ```Python\n",
    "      except: \n",
    "    ```\n",
    "        // print a meaningful message if the connection has \n",
    "           an issue with the `username` or `password`\t \n",
    " \n",
    "\n",
    "**TIP:** Test your set-up by purposefully entering an incorrect \n",
    "         user or password and see if you get the following message:  \n",
    "\n",
    "   ```Python\n",
    "      There was a problem connecting to the MySQL server.  \n",
    "      Please check the username or password.  \n",
    "    ```\n"
   ]
  },
  {
   "cell_type": "code",
   "execution_count": null,
   "id": "9a417772-9675-41c9-b56d-eb9d50020201",
   "metadata": {},
   "outputs": [],
   "source": [
    "# Add your code here\n",
    "import mysql.connector as connector\n",
    "\n",
    "try:\n",
    "    connection=connector.connect(\n",
    "        user=\"wrong_user\",\n",
    "        password='wrong_password'\n",
    "    )\n",
    "except:\n",
    "    print(\"\"\"\n",
    "    There was a problem connecting to the database.\n",
    "    Please check your username or the password.\n",
    "    \"\"\")\n"
   ]
  },
  {
   "cell_type": "markdown",
   "id": "b6112945-5fe0-44e9-889f-fc8bf3bb13b1",
   "metadata": {},
   "source": [
    "## Task 3:\n",
    "\n",
    "Little lemon wants to know the reason for any issues that might occur \n",
    "when connecting to the database. Help them to retrieve the error code \n",
    "along with the error message in the following situations:  \n",
    "\n",
    "* The database does not exist \n",
    "* Wrong Username or the password \n",
    "\n",
    "To achieve this please you can use the following steps.\n",
    "\n",
    "* 1: First import an instance of MySQL connector using \n",
    "     the alias connector  \n",
    "\n",
    "* 2: Open a try block and place the appropriate connection code there. \n",
    "\n",
    "  ```Python\n",
    "     try: \n",
    "   ```    \n",
    "\n",
    "        // using connector.connect() make your database connection.  \n",
    "\n",
    "\n",
    "* 3: Finally, fill in the code for when an error occurs. \n",
    "     In the previous task, you used the print statement \n",
    "     to output a custom error message. Now, improve your \n",
    "     approach by using connector’s error exception in the \n",
    "     except block.  \n",
    "\n",
    "   ```Python\n",
    "      except connector.?() as er: \n",
    "    ```\n",
    "\n",
    "        // print(“Error code: “, er.?) \n",
    "        // print( (“Error message: “, er.?) \n",
    "\n",
    "**TIP:** Use the “Error” class from “mysql.connector” to get the \n",
    "         error code and the message. Use try-except from Python \n",
    "         for implementation."
   ]
  },
  {
   "cell_type": "code",
   "execution_count": null,
   "id": "539d4504-9404-47b5-9cb3-30dc5806d7bc",
   "metadata": {},
   "outputs": [],
   "source": [
    "# Add your code here\n",
    "import mysql.connector as connector\n",
    "\n",
    "try:\n",
    "    connection=connector.connect(\n",
    "        user=\"ameta\",\n",
    "        password=\"password\",\n",
    "        database = \"no_database\")\n",
    "\n",
    "except connector.Error as er:\n",
    "    print(\"Error code:\", er.errno)\n",
    "    print(\"Error message:\", er.msg)\n"
   ]
  },
  {
   "cell_type": "code",
   "execution_count": null,
   "id": "45e82123-66c3-40dc-b0bc-1f5ebb24e900",
   "metadata": {},
   "outputs": [],
   "source": [
    "# Let's close the cursor and the connection\n",
    "if connection.is_connected():\n",
    "    connection.close()\n",
    "    print(\"MySQL connection is closed.\")\n",
    "else:\n",
    "    print(\"Connection is already closed\")"
   ]
  }
 ],
 "metadata": {
  "kernelspec": {
   "display_name": "Python 3 (ipykernel)",
   "language": "python",
   "name": "python3"
  },
  "language_info": {
   "codemirror_mode": {
    "name": "ipython",
    "version": 3
   },
   "file_extension": ".py",
   "mimetype": "text/x-python",
   "name": "python",
   "nbconvert_exporter": "python",
   "pygments_lexer": "ipython3",
   "version": "3.12.4"
  }
 },
 "nbformat": 4,
 "nbformat_minor": 5
}
