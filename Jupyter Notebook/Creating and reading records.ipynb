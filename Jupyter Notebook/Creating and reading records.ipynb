{
 "cells": [
  {
   "cell_type": "markdown",
   "id": "b8bd4500-e403-42f4-b284-f5e857b5c633",
   "metadata": {},
   "source": [
    "## Creating and reading records"
   ]
  },
  {
   "cell_type": "markdown",
   "id": "5e93fceb-4567-4d28-9314-193576f717bd",
   "metadata": {},
   "source": [
    "## Prerequisites  \n",
    "\n",
    "To complete this exercise, you must have access to the `“little_lemon”` database. As an authorized user, you need to establish a connection between Python and the database via the connector API and create a `“cursor”` object using the following code: "
   ]
  },
  {
   "cell_type": "code",
   "execution_count": null,
   "id": "889c8506-1758-4981-a539-8ac85b479be9",
   "metadata": {},
   "outputs": [],
   "source": [
    "import mysql.connector as connector"
   ]
  },
  {
   "cell_type": "code",
   "execution_count": null,
   "id": "e0cacf49-9de1-48ef-998b-6ae34dca9ebd",
   "metadata": {},
   "outputs": [],
   "source": [
    "# Establish connection between Python and MySQL database via connector API\n",
    "connection=connector.connect(\n",
    "                             user=\"root\", # use your own\n",
    "                             password=\"\", # use your own\n",
    "                            )"
   ]
  },
  {
   "cell_type": "code",
   "execution_count": null,
   "id": "5dd5d6ab-cb33-4a3d-b63d-4a8e47c4d40c",
   "metadata": {},
   "outputs": [],
   "source": [
    "# Create cursor object to communicate with entire MySQL database\n",
    "cursor = connection.cursor()"
   ]
  },
  {
   "cell_type": "markdown",
   "id": "3b057355-a0e6-47a3-9575-843e69256fd8",
   "metadata": {},
   "source": [
    "Once, the connection is established, and you have a cursor object, you can select the database `“little_lemon”` and print the names of the tables using the following code: "
   ]
  },
  {
   "cell_type": "code",
   "execution_count": null,
   "id": "6fbf5402-3046-4d05-ae1a-5e238f0962d2",
   "metadata": {},
   "outputs": [],
   "source": [
    "# Setting little_lemon for use \n",
    "cursor.execute(\"use little_lemon\")\n",
    "\n",
    "# Confirming\n",
    "print(\"Database is use is:\", connection.database)\n",
    "print()\n",
    "print(\"The existing tables in the little_lemon database are:\")\n",
    "cursor.execute(\"SHOW TABLES\") \n",
    "# Print table names \n",
    "for table in cursor: \n",
    "    print(table)"
   ]
  },
  {
   "cell_type": "markdown",
   "id": "b9657d6a-927a-470a-878c-74aa2ae5e679",
   "metadata": {},
   "source": [
    "## Scenario \n",
    "\n",
    "Little Lemon restaurant has created a database and designed tables to keep records of key data. The list of tables that they’ve created are as follows: \n",
    "\n",
    "* A table called `Menu` that stores menu data, \n",
    "* A table called `MenuItems` that stores data on menu items, \n",
    "* A table called `Orders` that stores data on customer orders, \n",
    "* And a table called `Bookings` that stores data on customer bookings. \n",
    "\n",
    "They now need to populate these tables with relevant data. They also need to read the data once the records have been inserted into the database.  \n",
    "\n",
    "Help Little Lemon create and read data in their MySQL database using Python. "
   ]
  },
  {
   "cell_type": "markdown",
   "id": "1e181a48-ea7a-421e-a639-8781951f79b4",
   "metadata": {},
   "source": [
    "## Task 1:\n",
    "\n",
    "Insert data in all four tables in the `\"little_lemon\"` database using Python. Use the following `\"INSERT\"` queries to populate the tables with relevant data. \n",
    "\n",
    "Use the `\"SELECT\"` command to check the output and ensure that each `\"INSERT\"` query has been executed successfully. "
   ]
  },
  {
   "cell_type": "markdown",
   "id": "2242d85e-87cd-4663-b297-774ff4f0aa98",
   "metadata": {},
   "source": [
    "**SQL queries to insert data in the tables**"
   ]
  },
  {
   "cell_type": "code",
   "execution_count": null,
   "id": "a4da9ed9-329e-4a8f-8d59-95cb9794754f",
   "metadata": {},
   "outputs": [],
   "source": [
    "# Add your code here\n",
    "#*******************************************************#\n",
    "# Insert query to populate \"MenuItems\" table is:\n",
    "#*******************************************************#\n",
    "insert_menuitmes=\"\"\"\n",
    "INSERT INTO MenuItems (ItemID, Name, Type, Price)\n",
    "VALUES\n",
    "(1,'Olives','Starters',5),\n",
    "(2,'Flatbread','Starters', 5),\n",
    "(3, 'Minestrone', 'Starters', 8),\n",
    "(4, 'Tomato bread','Starters', 8),\n",
    "(5, 'Falafel', 'Starters', 7),\n",
    "(6, 'Hummus', 'Starters', 5),\n",
    "(7, 'Greek salad', 'Main Courses', 15),\n",
    "(8, 'Bean soup', 'Main Courses', 12),\n",
    "(9, 'Pizza', 'Main Courses', 15),\n",
    "(10,'Greek yoghurt','Desserts', 7),\n",
    "(11, 'Ice cream', 'Desserts', 6),\n",
    "(12, 'Cheesecake', 'Desserts', 4),\n",
    "(13, 'Athens White wine', 'Drinks', 25),\n",
    "(14, 'Corfu Red Wine', 'Drinks', 30),\n",
    "(15, 'Turkish Coffee', 'Drinks', 10),\n",
    "(16, 'Turkish Coffee', 'Drinks', 10),\n",
    "(17, 'Kabasa', 'Main Courses', 17);\"\"\"\n",
    "\n",
    "#*******************************************************#\n",
    "# Insert query to populate \"Menu\" table is:\n",
    "#*******************************************************#\n",
    "insert_menu=\"\"\"\n",
    "INSERT INTO Menus (MenuID,ItemID,Cuisine)\n",
    "VALUES\n",
    "(1, 1, 'Greek'),\n",
    "(1, 7, 'Greek'),\n",
    "(1, 10, 'Greek'),\n",
    "(1, 13, 'Greek'),\n",
    "(2, 3, 'Italian'),\n",
    "(2, 9, 'Italian'),\n",
    "(2, 12, 'Italian'),\n",
    "(2, 15, 'Italian'),\n",
    "(3, 5, 'Turkish'),\n",
    "(3, 17, 'Turkish'),\n",
    "(3, 11, 'Turkish'),\n",
    "(3, 16, 'Turkish');\"\"\"\n",
    "\n",
    "#*******************************************************#\n",
    "# Insert query to populate \"Bookings\" table is:\n",
    "#*******************************************************#\n",
    "insert_bookings=\"\"\"\n",
    "INSERT INTO Bookings (BookingID, TableNo, GuestFirstName, \n",
    "GuestLastName, BookingSlot, EmployeeID)\n",
    "VALUES\n",
    "(1,12,'Anna','Iversen','19:00:00',1),\n",
    "(2, 12, 'Joakim', 'Iversen', '19:00:00', 1),\n",
    "(3, 19, 'Vanessa', 'McCarthy', '15:00:00', 3),\n",
    "(4, 15, 'Marcos', 'Romero', '17:30:00', 4),\n",
    "(5, 5, 'Hiroki', 'Yamane', '18:30:00', 2),\n",
    "(6, 8, 'Diana', 'Pinto', '20:00:00', 5);\"\"\"\n",
    "\n",
    "#*******************************************************#\n",
    "# Insert query to populate \"Orders\" table is:\n",
    "#*******************************************************#\n",
    "insert_orders=\"\"\"\n",
    "INSERT INTO Orders (OrderID, TableNo, MenuID, BookingID, Quantity, BillAmount)\n",
    "VALUES\n",
    "(1, 12, 1, 1, 2, 86),\n",
    "(2, 19, 2, 2, 1, 37),\n",
    "(3, 15, 2, 3, 1, 37),\n",
    "(4, 5, 3, 4, 1, 40),\n",
    "(5, 8, 1, 5, 1, 43);\"\"\"\n"
   ]
  },
  {
   "cell_type": "markdown",
   "id": "b89929d6-62fa-4965-8bee-c3c8841e42cb",
   "metadata": {},
   "source": [
    "**Populating tables using python**"
   ]
  },
  {
   "cell_type": "code",
   "execution_count": null,
   "id": "501f25df-a1a2-4386-9160-9e85b36bdbb1",
   "metadata": {},
   "outputs": [],
   "source": [
    "print(\"Inserting data in MenuItems table.\")\n",
    "# Populate MenuItems table\n",
    "cursor.execute(insert_menuitmes)\n",
    "print(\"Total number of rows in MenuItem table: \", cursor.rowcount)\n",
    "# Once the query is executed, you commit the change into the database \n",
    "connection.commit()\n",
    "\n",
    "print(\"Inserting data in Menus table.\")\n",
    "# Populate MenuItems table\n",
    "cursor.execute(insert_menu)\n",
    "print(\"Total number of rows in Menu table: \", cursor.rowcount)\n",
    "connection.commit()\n",
    "\n",
    "print(\"Inserting data in Bookings table.\")\n",
    "# Populate Bookings table\n",
    "cursor.execute(insert_bookings)\n",
    "print(\"Total number of rows in Bookings table: \", cursor.rowcount)\n",
    "connection.commit()\n",
    "\n",
    "print(\"Inserting data in Orders table.\")\n",
    "# Populate Orders table\n",
    "cursor.execute(insert_orders)\n",
    "print(\"Total number of rows in Orders table: \", cursor.rowcount)\n",
    "connection.commit()"
   ]
  },
  {
   "cell_type": "markdown",
   "id": "76e702a4-d918-4595-bc1e-063655659042",
   "metadata": {},
   "source": [
    "## Task 2:\n",
    "\n",
    "In the first task, you created records in the empty tables. Now the restaurant requires the following data for each guest: \n",
    "\n",
    "* Guest first and last names  \n",
    "* The table number assigned to each guest.  \n",
    "\n",
    "You can help Little Lemon to read this data from the “Bookings” table using Python. \n",
    "\n",
    "The SELECT query you need to complete this task is as follows:  \n",
    "\n",
    "```Python\n",
    "all_bookings = \"\"\"SELECT GuestFirstName, GuestLastName, TableNo FROM Bookings;\"\"\" \n",
    "```\n",
    "\n",
    "**Tip:** Only read the required columns from the “Bookings” table. Use the  “column_names” attribute from the “cursor” to extract the names of the column and print them using Python’s “print” statement before printing the records. Use for loop to iterate over the “results” that you fetch using the “cursor”. "
   ]
  },
  {
   "cell_type": "code",
   "execution_count": null,
   "id": "d07fd089-ed4a-4f8b-872d-fbc1209952da",
   "metadata": {},
   "outputs": [],
   "source": [
    "# Add your code here\n",
    "import mysql.connector\n",
    "\n",
    "# Establish a connection to the database\n",
    "connection = mysql.connector.connect(\n",
    "    host='localhost',\n",
    "    user='root',\n",
    "    password='',\n",
    "    database='little_lemon'\n",
    ")\n",
    "# Create a cursor object to interact with the database\n",
    "cursor = connection.cursor()\n",
    "\n",
    "# Read query is:\n",
    "all_bookings = \"\"\"SELECT GuestFirstName, GuestLastName, \n",
    "TableNo FROM Bookings;\"\"\"\n",
    "\n",
    "try:\n",
    "# Eexecute query \n",
    " cursor.execute(all_bookings)\n",
    "\n",
    "# Fetch all results that satisfy the query \n",
    " results = cursor.fetchall()\n",
    "\n",
    "# Retrieve column names\n",
    " cols = [desc[0] for desc in cursor.description]\n",
    "\n",
    "# Retrieve column names\n",
    " cols = cursor.column_names\n",
    "\n",
    "# Print column names and records from results using for loop\n",
    " print(\"\"\"Data in the \"Bookings\" table:\"\"\")\n",
    " print(cols)\n",
    " for result in results:\n",
    "    print(result)\n",
    "\n",
    "except mysql.connector.Error as err:\n",
    "    # Handle any errors that occur\n",
    " print(f\"Error: {err}\")"
   ]
  },
  {
   "cell_type": "markdown",
   "id": "7e907205-939f-47af-9f79-5a44492ecec8",
   "metadata": {},
   "source": [
    "## Task 3:\n",
    "\n",
    "For the next task, you need to read all the records in the `“Menu”` table and retrieve only the first three from the `“cursor”`. Your read query is the following: \n",
    "\n",
    "```Python\n",
    "all_menus = \"\"\"SELECT * FROM Menus;\"\"\" \n",
    "```\n",
    "\n",
    "**Tip:** Explore the functions that you can invoke on the cursor. It is always a good idea to store the query output in a python variable (e.g., “results”) for later use, and you can print them using for loop in python.  \n",
    "\n",
    "**Option 1:**"
   ]
  },
  {
   "cell_type": "code",
   "execution_count": null,
   "id": "3bba750b-a3dd-4ad2-ad47-de4fd0a4b7bb",
   "metadata": {},
   "outputs": [],
   "source": [
    "# Add your code here\n",
    "# Query to retrieve all bookings is:\n",
    "all_menus = \"\"\"SELECT * FROM Menus;\"\"\"\n",
    "\n",
    "# Execute query\n",
    "cursor.execute(all_menus)\n",
    "\n",
    "# Fetch fist 3 records in results\n",
    "results = cursor.fetchmany(size=3)\n",
    "\n",
    "# Retrieve column names\n",
    "cols = cursor.column_names\n",
    "\n",
    "# Print column names and records from results using for loop\n",
    "print(\"\"\"Data in the \"Menu\" table:\"\"\")\n",
    "print(cols)\n",
    "for result in results:\n",
    "    print(result)\n"
   ]
  },
  {
   "cell_type": "markdown",
   "id": "229cc444-fa6f-40a9-9a1b-8e6afd170af6",
   "metadata": {},
   "source": [
    "After grabbing first three records, the cursor will be at the fourth record and we can call `fetchall()` to grab them."
   ]
  },
  {
   "cell_type": "code",
   "execution_count": null,
   "id": "f12b7f47-7235-4758-847f-f7eb9e3b9a49",
   "metadata": {},
   "outputs": [],
   "source": [
    "# Add your code here\n",
    "# Remaining records after fetching the first three\n",
    "results = cursor.fetchall()\n",
    "for result in results:\n",
    "    print(result)\n"
   ]
  },
  {
   "cell_type": "markdown",
   "id": "70a0382b-00f9-4d3f-ad8e-e957e85df7d8",
   "metadata": {},
   "source": [
    "**Options 2:**\n",
    "\n",
    "This task can also be accomplished by setting `LIMIT 3` in the `SQL` query."
   ]
  },
  {
   "cell_type": "code",
   "execution_count": null,
   "id": "9c08664e-7fa1-45c9-956e-bb5ad87bb3c0",
   "metadata": {},
   "outputs": [],
   "source": [
    "# Query to retrieve only first three records from the bookings table is:\n",
    "all_menus = \"\"\"SELECT * FROM Menus LIMIT 3;\"\"\"\n",
    "\n",
    "# Execute query\n",
    "cursor.execute(all_menus)\n",
    "\n",
    "# Fetch fist 3 records in results\n",
    "results = cursor.fetchall()\n",
    "\n",
    "# Retrieve column names\n",
    "cols = cursor.column_names\n",
    "\n",
    "# Print column names and records from results using for loop\n",
    "print(\"\"\"Data in the \"Menu\" table:\"\"\")\n",
    "print(cols)\n",
    "for result in results:\n",
    "    print(result)\n"
   ]
  },
  {
   "cell_type": "code",
   "execution_count": null,
   "id": "d6196404-0bb3-4c2b-9016-1a42c0916d63",
   "metadata": {},
   "outputs": [],
   "source": [
    "# Let's close the cursor and the connection\n",
    "if connection.is_connected():\n",
    "    cursor.close()\n",
    "    print(\"The cursor is closed.\")\n",
    "    connection.close()\n",
    "    print(\"MySQL connection is closed.\")\n",
    "else:\n",
    "    print(\"Connection is already closed\")\n"
   ]
  }
 ],
 "metadata": {
  "kernelspec": {
   "display_name": "Python 3 (ipykernel)",
   "language": "python",
   "name": "python3"
  },
  "language_info": {
   "codemirror_mode": {
    "name": "ipython",
    "version": 3
   },
   "file_extension": ".py",
   "mimetype": "text/x-python",
   "name": "python",
   "nbconvert_exporter": "python",
   "pygments_lexer": "ipython3",
   "version": "3.12.4"
  }
 },
 "nbformat": 4,
 "nbformat_minor": 5
}
