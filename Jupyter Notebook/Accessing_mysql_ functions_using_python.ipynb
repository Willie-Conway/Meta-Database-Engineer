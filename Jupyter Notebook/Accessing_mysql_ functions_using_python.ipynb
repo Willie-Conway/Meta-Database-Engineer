{
 "cells": [
  {
   "cell_type": "code",
   "execution_count": 1,
   "id": "d4fafdb6-6d63-4bb8-8724-ba586c23ec41",
   "metadata": {},
   "outputs": [],
   "source": [
    "import mysql.connector as connector"
   ]
  },
  {
   "cell_type": "code",
   "execution_count": 2,
   "id": "fa7d3dae-71df-4ce5-945b-e81cff4214a3",
   "metadata": {},
   "outputs": [],
   "source": [
    "connection = connector.connect(user=\"mario\", password=\"cuisine\")"
   ]
  },
  {
   "cell_type": "code",
   "execution_count": 3,
   "id": "18b92d6c-a2a0-4f75-8708-3bc2fbb3477a",
   "metadata": {},
   "outputs": [],
   "source": [
    "cursor=connection.cursor()"
   ]
  },
  {
   "cell_type": "code",
   "execution_count": 4,
   "id": "1061d711-0a5b-48a9-ad1e-4ebb44f6b4df",
   "metadata": {},
   "outputs": [],
   "source": [
    "cursor.execute(\"USE little_lemon\")"
   ]
  },
  {
   "cell_type": "code",
   "execution_count": 5,
   "id": "6cbc7ea7-d0a0-4917-829e-b3df3320db8f",
   "metadata": {},
   "outputs": [],
   "source": [
    "import datetime as dt"
   ]
  },
  {
   "cell_type": "code",
   "execution_count": 6,
   "id": "b27f245d-ebfe-4c8b-a301-e79364b628cb",
   "metadata": {},
   "outputs": [],
   "source": [
    "select_stmt=\"\"\"SELECT * FROM bookings\"\"\""
   ]
  },
  {
   "cell_type": "code",
   "execution_count": 7,
   "id": "858e8a7c-094e-4f53-aa4e-cfa66fe6f484",
   "metadata": {},
   "outputs": [],
   "source": [
    "cursor.execute(select_stmt)"
   ]
  },
  {
   "cell_type": "code",
   "execution_count": 8,
   "id": "b58f699e-ed64-4efe-b0e9-4f37fe0ceeef",
   "metadata": {},
   "outputs": [
    {
     "name": "stdout",
     "output_type": "stream",
     "text": [
      "('BookingID', 'TableNo', 'GuestFirstName', 'GuestLastName', 'BookingSlot', 'EmployeeID')\n"
     ]
    }
   ],
   "source": [
    "print(cursor.column_names)"
   ]
  },
  {
   "cell_type": "code",
   "execution_count": 9,
   "id": "ba94ccf4-6dd6-4733-b325-2118caef84fa",
   "metadata": {},
   "outputs": [
    {
     "name": "stdout",
     "output_type": "stream",
     "text": [
      "booking id 1 is moved from 19:00:00 to 20:00:00\n",
      "booking id 2 is moved from 19:00:00 to 20:00:00\n",
      "booking id 3 is moved from 15:00:00 to 16:00:00\n",
      "booking id 4 is moved from 17:30:00 to 18:30:00\n",
      "booking id 5 is moved from 18:30:00 to 19:30:00\n",
      "booking id 6 is moved from 20:00:00 to 21:00:00\n",
      "booking id 7 is moved from 19:00:00 to 20:00:00\n"
     ]
    }
   ],
   "source": [
    "for row in cursor:\n",
    "    booking_id=row[0]\n",
    "    booking_slot=row[4]\n",
    "    new_booking_slot=booking_slot+dt.timedelta(hours=1)\n",
    "    print(\"booking id {} is moved from {} to {}\".format(booking_id,booking_slot, new_booking_slot))"
   ]
  }
 ],
 "metadata": {
  "kernelspec": {
   "display_name": "Python 3 (ipykernel)",
   "language": "python",
   "name": "python3"
  },
  "language_info": {
   "codemirror_mode": {
    "name": "ipython",
    "version": 3
   },
   "file_extension": ".py",
   "mimetype": "text/x-python",
   "name": "python",
   "nbconvert_exporter": "python",
   "pygments_lexer": "ipython3",
   "version": "3.12.4"
  }
 },
 "nbformat": 4,
 "nbformat_minor": 5
}
