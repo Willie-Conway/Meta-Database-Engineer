{
 "cells": [
  {
   "cell_type": "code",
   "execution_count": 21,
   "id": "0b4959a0-f75d-4f81-ba97-b48f09619c15",
   "metadata": {},
   "outputs": [],
   "source": [
    "import mysql.connector as connector"
   ]
  },
  {
   "cell_type": "code",
   "execution_count": 22,
   "id": "718ed71f-a910-4226-8692-727c563697cd",
   "metadata": {},
   "outputs": [],
   "source": [
    "connection = connector.connect(user=\"mario\", password=\"cuisine\")"
   ]
  },
  {
   "cell_type": "code",
   "execution_count": 23,
   "id": "00f5115e-3f54-448d-ba46-b9184dac1074",
   "metadata": {},
   "outputs": [],
   "source": [
    "cursor = connection.cursor()"
   ]
  },
  {
   "cell_type": "code",
   "execution_count": 24,
   "id": "64b117e9-076c-478c-9af4-00abb877e9ba",
   "metadata": {},
   "outputs": [],
   "source": [
    "cursor.execute(\"USE little_lemon\")"
   ]
  },
  {
   "cell_type": "code",
   "execution_count": 25,
   "id": "5140cf98-1bc4-470e-834e-ebe4f70a5f26",
   "metadata": {},
   "outputs": [],
   "source": [
    "join_query=\"\"\"\n",
    "SELECT MenuItems.Name, MenuItems.Type, MenuItems.Price,\n",
    "Menus.Cuisine From MenuItems INNER JOIN Menus ON \n",
    "MenuItems.ItemID=Menus.ItemID\n",
    "\"\"\""
   ]
  },
  {
   "cell_type": "code",
   "execution_count": 26,
   "id": "9efcc1e4-4f88-4e0c-9cc2-1fbe49bdfd8f",
   "metadata": {},
   "outputs": [],
   "source": [
    "cursor.execute(join_query)"
   ]
  },
  {
   "cell_type": "code",
   "execution_count": 27,
   "id": "fa684485-5b61-48da-87da-0eb7700e5bc9",
   "metadata": {},
   "outputs": [],
   "source": [
    "results= cursor.fetchall()"
   ]
  },
  {
   "cell_type": "code",
   "execution_count": 28,
   "id": "14dcefe9-9936-418b-978f-2c6cd5a40609",
   "metadata": {},
   "outputs": [
    {
     "name": "stdout",
     "output_type": "stream",
     "text": [
      "('Name', 'Type', 'Price', 'Cuisine')\n",
      "('Spaghetti Carbonara', 'Main Course', 13, 'Italian')\n"
     ]
    }
   ],
   "source": [
    "print(cursor.column_names)\n",
    "for result in results:\n",
    "    print(result)"
   ]
  },
  {
   "cell_type": "code",
   "execution_count": null,
   "id": "4780481a-9cd4-461d-adef-6cf08d601189",
   "metadata": {},
   "outputs": [],
   "source": []
  }
 ],
 "metadata": {
  "kernelspec": {
   "display_name": "Python 3 (ipykernel)",
   "language": "python",
   "name": "python3"
  },
  "language_info": {
   "codemirror_mode": {
    "name": "ipython",
    "version": 3
   },
   "file_extension": ".py",
   "mimetype": "text/x-python",
   "name": "python",
   "nbconvert_exporter": "python",
   "pygments_lexer": "ipython3",
   "version": "3.12.4"
  }
 },
 "nbformat": 4,
 "nbformat_minor": 5
}
