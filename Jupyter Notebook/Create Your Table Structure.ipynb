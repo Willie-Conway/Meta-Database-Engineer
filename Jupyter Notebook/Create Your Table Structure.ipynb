{
 "cells": [
  {
   "cell_type": "markdown",
   "id": "b03361ae",
   "metadata": {},
   "source": [
    "# Create Your Table Structure"
   ]
  },
  {
   "cell_type": "code",
   "execution_count": null,
   "id": "d6556bd6-e8c3-4d85-a248-d0dc74cc793c",
   "metadata": {},
   "outputs": [],
   "source": [
    "#install connector api using the command below.\n",
    "!pip install mysql-connector-python\n",
    "\n",
    "# Import the MySQL Connector/Python\n",
    "import mysql.connector as connector"
   ]
  },
  {
   "cell_type": "code",
   "execution_count": null,
   "id": "5744b50c-a47c-451d-ae6d-421df77d21b0",
   "metadata": {},
   "outputs": [],
   "source": [
    "#!pip show mysql-connector-python\n",
    "# Establish connection between Python and MySQL database via connector API\n",
    "connection=connector.connect(\n",
    "                             user=\"root\", # use your own\n",
    "                             password=\"\", # use your own\n",
    "                            )"
   ]
  },
  {
   "cell_type": "markdown",
   "id": "9426d0c4-c9bb-4c31-a6b4-1a833a5f8fc6",
   "metadata": {},
   "source": [
    "Once the connection is established and you have a cursor object, \n",
    "you can carry out the required tasks. "
   ]
  },
  {
   "cell_type": "code",
   "execution_count": null,
   "id": "30677965-0c46-4a36-ba23-1af9ca3a9f1b",
   "metadata": {},
   "outputs": [],
   "source": [
    "# Create a cursor object to communicate with entire MySQL database\n",
    "cursor = connection.cursor()"
   ]
  },
  {
   "cell_type": "markdown",
   "id": "727faedf-270b-46b1-b2a4-3fe18e1e9274",
   "metadata": {},
   "source": [
    "## Scenario \n",
    "\n",
    "Little Lemon needs a Python-based application in which they can organize their data within different tables in a MySQL database.  \n",
    "\n",
    "First, they need to create their database. Then they need to create the database’s tables.  \n",
    "\n",
    "The list of tables they need to create are as follows: \n",
    "\n",
    "* A table called Menu that stores menu data \n",
    "* A table called MenuItems that stores data on menu items \n",
    "* A table called Orders that stores data on customer orders \n",
    "* And a table called Bookings that stores data on customer bookings \n",
    "\n",
    "Complete the tasks that follow to help Little Lemon create the database and the tables. "
   ]
  },
  {
   "cell_type": "markdown",
   "id": "d646e4ef-c16f-4c46-9b61-a606bae2cd51",
   "metadata": {},
   "source": [
    "## Task 1:\n",
    "Little Lemon need to create a database that can hold their tables. Create a MySQL database for Little Lemon using Python. You can call the database “little_lemon”. \n",
    "You also need to confirm that the database has been successfully created by executing the `“SHOW DATABASE”` query. \n",
    "\n",
    "**Tip:** If a database with the same name already exists, then you’ll receive an error confirming its existence. Otherwise, your code will be executed with no output. "
   ]
  },
  {
   "cell_type": "code",
   "execution_count": null,
   "id": "dad37c9f-f810-4b47-a2ba-20bb90a09fb3",
   "metadata": {},
   "outputs": [],
   "source": [
    "# Add your code here\n",
    "# If exist, drop the database first\n",
    "cursor.execute(\"drop database little_lemon\")\n",
    "\n",
    "# Create database and checking all that we have!\n",
    "\n",
    "cursor.execute(\"CREATE DATABASE little_lemon\")\n",
    "cursor.execute(\"SHOW DATABASES\")\n",
    "for database in cursor:\n",
    "    print(database)"
   ]
  },
  {
   "cell_type": "markdown",
   "id": "dcc34048-7cf2-482e-94d8-f7637fc92cb8",
   "metadata": {},
   "source": [
    "## Task 2:\n",
    "Set the newly created database `“little_lemon”` for use. Confirm that the database is available for use by using `connection.database`. \n",
    "\n",
    "**Tip:** If the `“little_lemon”` database already exists, then the code in your jupyter notebook cell should execute without any error."
   ]
  },
  {
   "cell_type": "code",
   "execution_count": null,
   "id": "43208c0f-23b5-4f73-a2b3-f9ee11781dde",
   "metadata": {},
   "outputs": [],
   "source": [
    "# Add your code here\n",
    "# Set little_lemon database for use\n",
    "cursor.execute(\"USE little_lemon\")\n",
    "\n",
    "# Confirm the database in use\n",
    "connection.database"
   ]
  },
  {
   "cell_type": "code",
   "execution_count": null,
   "id": "219c72ca-8937-47f5-87b1-8888a0a8e904",
   "metadata": {},
   "outputs": [],
   "source": [
    "cursor.execute(\"SHOW DATABASES\")\n",
    "for database in cursor:\n",
    "    print(database)"
   ]
  },
  {
   "cell_type": "markdown",
   "id": "fcb3ce92-99df-4398-9cf2-c67935dd40a6",
   "metadata": {},
   "source": [
    "## Creating tables "
   ]
  },
  {
   "cell_type": "markdown",
   "id": "bef75ea7-42a1-4f68-88f3-91ce84ea6b0c",
   "metadata": {},
   "source": [
    "## Task 3:\n",
    "\n",
    "Create a `“MenuItems”` table using the following SQL query as a Python string:\n",
    "```Python\n",
    "create_menuitem_table = \"\"\"CREATE TABLE MenuItems (\n",
    "ItemID INT AUTO_INCREMENT,\n",
    "Name VARCHAR(200),\n",
    "Type VARCHAR(100),\n",
    "Price INT,\n",
    "PRIMARY KEY (ItemID)\n",
    ");\"\"\"\n",
    "```\n",
    "Once you have executed the query, use the `“SHOW TABLES”` command to confirm that the table has been created.\n",
    "\n",
    "**Tip:** The code will run in the jupyter notebook with no error if your SQL query is correct, and the table does not exist. "
   ]
  },
  {
   "cell_type": "code",
   "execution_count": null,
   "id": "5773ef2c-b593-4672-9780-7d646233f345",
   "metadata": {},
   "outputs": [],
   "source": [
    "# Add your code here\n",
    "# The SQL query for MenuItems table is:\n",
    "create_menuitem_table = \"\"\"\n",
    "CREATE TABLE MenuItems (\n",
    "ItemID INT AUTO_INCREMENT,\n",
    "Name VARCHAR(200),\n",
    "Type VARCHAR(100),\n",
    "Price INT,\n",
    "PRIMARY KEY (ItemID)\n",
    ");\"\"\"\n",
    "\n",
    "# Create MenuItems table\n",
    "cursor.execute(create_menuitem_table)\n",
    "\n",
    "# Confirm if the table is created\n",
    "cursor.execute(\"SHOW TABLES\")\n",
    "for table in cursor:\n",
    "    print(table)"
   ]
  },
  {
   "cell_type": "markdown",
   "id": "304a035e-81b8-460e-930a-1b95cdd58a3f",
   "metadata": {},
   "source": [
    "## Task 4: \n",
    "\n",
    "Create the `“Menus”` table to store data on menus using the following SQL query as a Python string.\n",
    "```Python\n",
    "create_menu_table = \"\"\"CREATE TABLE Menus (\n",
    "MenuID INT,\n",
    "ItemID INT,\n",
    "Cuisine VARCHAR(100),\n",
    "PRIMARY KEY (MenuID,ItemID)\n",
    ");\"\"\"\n",
    "```\n",
    "Once you have executed the query, use the `SHOW TABLES` command to confirm that the table has been created. \n",
    "\n",
    "**Tip:** The code will run in the jupyter notebook with no error if your SQL query is correct, and the table does not exist. "
   ]
  },
  {
   "cell_type": "code",
   "execution_count": null,
   "id": "fe16bb9b-4378-4354-9f25-fb9b37ceade3",
   "metadata": {},
   "outputs": [],
   "source": [
    "# Add your code here\n",
    "# The SQL query for Menu table is:\n",
    "create_menu_table = \"\"\"\n",
    "CREATE TABLE Menus (\n",
    "MenuID INT,\n",
    "ItemID INT,\n",
    "Cuisine VARCHAR(100),\n",
    "PRIMARY KEY (MenuID,ItemID)\n",
    ");\"\"\"\n",
    "\n",
    "# Create Menu table\n",
    "cursor.execute(create_menu_table)\n",
    "\n",
    "# Confirm if the table is created\n",
    "cursor.execute(\"SHOW TABLES\")\n",
    "for table in cursor:\n",
    "    print(table)"
   ]
  },
  {
   "cell_type": "markdown",
   "id": "75f0124a-11f7-4720-84c2-a49a561a01c6",
   "metadata": {},
   "source": [
    "## Task 5: \n",
    "\n",
    "Create the “Bookings” table to store data on customer bookings using the following SQL query as a Python string:\n",
    "\n",
    "```Python\n",
    "Create_booking_table = \"\"\"CREATE TABLE Bookings (\n",
    "BookingID INT AUTO_INCREMENT,\n",
    "TableNo INT,\n",
    "GuestFirstName VARCHAR(100) NOT NULL,\n",
    "GuestLastName VARCHAR(100) NOT NULL,\n",
    "BookingSlot TIME NOT NULL,\n",
    "EmployeeID INT,\n",
    "PRIMARY KEY (BookingID)\n",
    ");\"\"\"\n",
    "```\n",
    "Once you have executed the query, use the `“SHOW TABLES”` command to confirm that the table has been created.\n",
    "\n",
    "**Tip:** The code will run in the jupyter notebook with no error if your SQL query is correct, and the table does not exist. "
   ]
  },
  {
   "cell_type": "code",
   "execution_count": null,
   "id": "402b63bd-932c-43fc-abb1-446726d44023",
   "metadata": {},
   "outputs": [],
   "source": [
    "# Add your code here\n",
    "# The SQL query for Bookings table is:\n",
    "create_booking_table = \"\"\"\n",
    "CREATE TABLE Bookings (\n",
    "BookingID INT AUTO_INCREMENT,\n",
    "TableNo INT,\n",
    "GuestFirstName VARCHAR(100) NOT NULL,\n",
    "GuestLastName VARCHAR(100) NOT NULL,\n",
    "BookingSlot TIME NOT NULL,\n",
    "EmployeeID INT,\n",
    "PRIMARY KEY (BookingID)\n",
    ");\"\"\"\n",
    "\n",
    "# Create Bookings table\n",
    "cursor.execute(create_booking_table)\n",
    "\n",
    "# Confirm if the table is created\n",
    "cursor.execute(\"SHOW TABLES\")\n",
    "for table in cursor:\n",
    "    print(table)"
   ]
  },
  {
   "cell_type": "markdown",
   "id": "94401854-ecf5-4ef4-b68f-184414ca18af",
   "metadata": {},
   "source": [
    "## Task 6: \n",
    "\n",
    "Create an “Orders” table to store data on customer orders using the following SQL query as a Python string:\n",
    "```Python\n",
    "create_orders_table = \"\"\"CREATE TABLE Orders (\n",
    "OrderID INT,\n",
    "TableNo INT,\n",
    "MenuID INT,\n",
    "BookingID INT,\n",
    "BillAmount INT,\n",
    "Quantity INT,\n",
    "PRIMARY KEY (OrderID,TableNo)\n",
    ");\"\"\"\n",
    "```\n",
    "\n",
    "Once you have executed the code, use the SHOW TABLES command to confirm that the table has been created. \n",
    "\n",
    "**Tip:** The code will run in the jupyter notebook with no error if your sql query is correct, and the table does not exist"
   ]
  },
  {
   "cell_type": "code",
   "execution_count": null,
   "id": "42f10be8-bd5b-4971-be8b-44b405348bde",
   "metadata": {},
   "outputs": [],
   "source": [
    "# Add your code here\n",
    "# The SQL query for Bookings table is:\n",
    "create_orders_table = \"\"\"\n",
    "CREATE TABLE Orders (\n",
    "OrderID INT,\n",
    "TableNo INT,\n",
    "MenuID INT,\n",
    "BookingID INT,\n",
    "BillAmount INT,\n",
    "Quantity INT,\n",
    "PRIMARY KEY (OrderID,TableNo)\n",
    ");\"\"\"\n",
    "\n",
    "# Create Orders table\n",
    "cursor.execute(create_orders_table)\n",
    "\n",
    "# Confirm if the table is created\n",
    "cursor.execute(\"SHOW TABLES\")\n",
    "for table in cursor:\n",
    "    print(table)"
   ]
  },
  {
   "cell_type": "code",
   "execution_count": null,
   "id": "37a0b252-4144-4e2c-9719-790f687f17ff",
   "metadata": {},
   "outputs": [],
   "source": [
    "# Let's close the cursor and the connection\n",
    "if connection.is_connected():\n",
    "    cursor.close()\n",
    "    print(\"The cursor is closed.\")\n",
    "    connection.close()\n",
    "    print(\"MySQL connection is closed.\")\n",
    "else:\n",
    "    print(\"Connection is already closed\")"
   ]
  }
 ],
 "metadata": {
  "kernelspec": {
   "display_name": "Python 3 (ipykernel)",
   "language": "python",
   "name": "python3"
  },
  "language_info": {
   "codemirror_mode": {
    "name": "ipython",
    "version": 3
   },
   "file_extension": ".py",
   "mimetype": "text/x-python",
   "name": "python",
   "nbconvert_exporter": "python",
   "pygments_lexer": "ipython3",
   "version": "3.12.4"
  }
 },
 "nbformat": 4,
 "nbformat_minor": 5
}
