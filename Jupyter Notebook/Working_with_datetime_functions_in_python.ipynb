{
 "cells": [
  {
   "cell_type": "code",
   "execution_count": 1,
   "id": "3562395a-1ceb-4b0a-a042-6b9e11be5182",
   "metadata": {},
   "outputs": [],
   "source": [
    "import mysql.connector as connector"
   ]
  },
  {
   "cell_type": "code",
   "execution_count": 2,
   "id": "b71b1f18-6f11-4dfc-9f6e-d2d03cf2b569",
   "metadata": {},
   "outputs": [],
   "source": [
    "connection = connector.connect(user=\"mario\", password=\"cuisine\")"
   ]
  },
  {
   "cell_type": "code",
   "execution_count": 3,
   "id": "1a029af4-92cd-47ee-a57a-ed517d2e7e3d",
   "metadata": {},
   "outputs": [],
   "source": [
    "cursor=connection.cursor()"
   ]
  },
  {
   "cell_type": "code",
   "execution_count": 4,
   "id": "e121fd42-6003-4581-b65d-449f226af72c",
   "metadata": {},
   "outputs": [],
   "source": [
    "cursor.execute(\"USE little_lemon\")"
   ]
  },
  {
   "cell_type": "code",
   "execution_count": 5,
   "id": "22e9c92e-ece0-4309-af79-b40813c0cf1f",
   "metadata": {},
   "outputs": [],
   "source": [
    "import datetime as dt"
   ]
  },
  {
   "cell_type": "code",
   "execution_count": 6,
   "id": "402ed6cb-f4a2-4bf0-b304-9ec4ff38e2f2",
   "metadata": {},
   "outputs": [],
   "source": [
    "select_stmt=\"\"\"SELECT * FROM bookings\"\"\""
   ]
  },
  {
   "cell_type": "code",
   "execution_count": 7,
   "id": "761cfcea-773f-4ef6-a170-80784cebb248",
   "metadata": {},
   "outputs": [],
   "source": [
    "cursor.execute(select_stmt)"
   ]
  },
  {
   "cell_type": "code",
   "execution_count": 8,
   "id": "599a3b35-63e2-4d23-8401-1e2a766437ac",
   "metadata": {},
   "outputs": [
    {
     "name": "stdout",
     "output_type": "stream",
     "text": [
      "('BookingID', 'TableNo', 'GuestFirstName', 'GuestLastName', 'BookingSlot', 'EmployeeID')\n"
     ]
    }
   ],
   "source": [
    "print(cursor.column_names)"
   ]
  },
  {
   "cell_type": "code",
   "execution_count": 9,
   "id": "7f5b46c9-26c4-467b-b73f-0fede1111dd9",
   "metadata": {},
   "outputs": [
    {
     "name": "stdout",
     "output_type": "stream",
     "text": [
      "booking id 1 is moved from 19:00:00 to 20:00:00\n",
      "booking id 2 is moved from 19:00:00 to 20:00:00\n",
      "booking id 3 is moved from 15:00:00 to 16:00:00\n",
      "booking id 4 is moved from 17:30:00 to 18:30:00\n",
      "booking id 5 is moved from 18:30:00 to 19:30:00\n",
      "booking id 6 is moved from 20:00:00 to 21:00:00\n"
     ]
    }
   ],
   "source": [
    "for row in cursor:\n",
    "    booking_id=row[0]\n",
    "    booking_slot=row[4]\n",
    "    new_booking_slot=booking_slot+dt.timedelta(hours=1)\n",
    "    print(\"booking id {} is moved from {} to {}\".format(booking_id, booking_slot, new_booking_slot))"
   ]
  }
 ],
 "metadata": {
  "kernelspec": {
   "display_name": "Python 3 (ipykernel)",
   "language": "python",
   "name": "python3"
  },
  "language_info": {
   "codemirror_mode": {
    "name": "ipython",
    "version": 3
   },
   "file_extension": ".py",
   "mimetype": "text/x-python",
   "name": "python",
   "nbconvert_exporter": "python",
   "pygments_lexer": "ipython3",
   "version": "3.12.4"
  }
 },
 "nbformat": 4,
 "nbformat_minor": 5
}
