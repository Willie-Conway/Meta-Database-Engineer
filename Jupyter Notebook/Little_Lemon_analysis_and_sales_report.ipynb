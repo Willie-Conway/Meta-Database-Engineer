{
 "cells": [
  {
   "cell_type": "markdown",
   "id": "8b2927fd-fce3-43f0-93ac-22285fc7d880",
   "metadata": {},
   "source": [
    "# Exercise 1: Set up the database \n",
    "You need a database for your peer review exercise. Follow the given steps to set up \n",
    "the Little Lemon database and complete the graded assessment."
   ]
  },
  {
   "cell_type": "markdown",
   "id": "7951412c-8d8d-4d0a-a8c0-d0a4c949df1a",
   "metadata": {},
   "source": [
    "### Step 1: Establish a connection \n",
    "\n",
    "Open a new Jupyter notebook and import the MySQL Connector/Python API to establish a connection between Python and MySQL database. The code to establish a connection is provided below. Use your own username and password while establishing a connection."
   ]
  },
  {
   "cell_type": "code",
   "execution_count": 1,
   "id": "1bb68139-dcb2-4b91-acd0-9f5c77dd044f",
   "metadata": {},
   "outputs": [],
   "source": [
    "# Import MySQL Connector/Python \n",
    "import mysql.connector as connector\n",
    "connection=connector.connect(user=\"mario\",password=\"cuisine\")"
   ]
  },
  {
   "cell_type": "markdown",
   "id": "04667e8b-bf74-4869-88f4-a6e5b54a6ba3",
   "metadata": {},
   "source": [
    "### Step 2: Create a cursor\n",
    "\n",
    "Once the connection between Python and MySQL database is successfully established, you then need to create a cursor object to communicate with MySQL. Create a cursor using the following code:"
   ]
  },
  {
   "cell_type": "code",
   "execution_count": 2,
   "id": "be8b737c-2529-4d39-bf49-5fa176d17fbe",
   "metadata": {},
   "outputs": [
    {
     "name": "stdout",
     "output_type": "stream",
     "text": [
      "Cursor is created to communicate with the MySQL using Python.\n"
     ]
    }
   ],
   "source": [
    "# Create cursor object to communicate with entire MySQL database\n",
    "cursor = connection.cursor()\n",
    "print(\"Cursor is created to communicate with the MySQL using Python.\")"
   ]
  },
  {
   "cell_type": "markdown",
   "id": "a7886a8c-6f53-415c-8671-f9e4cc9f076c",
   "metadata": {},
   "source": [
    "### Step 3: Create the database and set it for use\n",
    "\n",
    "You now have a connection and a cursor. Create a new database called little_lemon_db and set it for use using the following code:"
   ]
  },
  {
   "cell_type": "code",
   "execution_count": 3,
   "id": "f86e7296-69e0-4c18-b7df-72963ed45976",
   "metadata": {},
   "outputs": [
    {
     "name": "stdout",
     "output_type": "stream",
     "text": [
      "The database 'little_lemon_db' is created.\n",
      "\n",
      "The database little_lemon is set for use.\n"
     ]
    }
   ],
   "source": [
    "# Use try-except block to create a database named \"little_lemon_db\"\n",
    "# If the database already exists then drop the database first, then create it again.\n",
    "try:\n",
    "    cursor.execute(\"CREATE DATABASE little_lemon_db\")\n",
    "except:\n",
    "    cursor.execute(\"DROP DATABASE little_lemon_db\")\n",
    "    cursor.execute(\"CREATE DATABASE little_lemon_db\")\n",
    "print(\"The database 'little_lemon_db' is created.\\n\")    \n",
    "\n",
    "# Set little_lemon database for use \n",
    "cursor.execute(\"USE little_lemon_db\")\n",
    "print(\"The database little_lemon is set for use.\")"
   ]
  },
  {
   "cell_type": "markdown",
   "id": "555face0-41bf-4d47-9a29-a5c2577b1589",
   "metadata": {},
   "source": [
    "### Step 4: Create the MenuItems table in the database and populate it with data"
   ]
  },
  {
   "cell_type": "code",
   "execution_count": 4,
   "id": "188e9fe7-ca9e-4254-9f75-3a1136eba02d",
   "metadata": {},
   "outputs": [
    {
     "name": "stdout",
     "output_type": "stream",
     "text": [
      "MenuItems table is created.\n",
      "\n",
      "Inserting data in MenuItems table.\n",
      "Total number of rows in MenuItem table: 17\n",
      "\n"
     ]
    }
   ],
   "source": [
    "# The SQL query for the MenuItems table is: \n",
    "create_menuitem_table=\"\"\"\n",
    "CREATE TABLE MenuItems (\n",
    "ItemID INT AUTO_INCREMENT,\n",
    "Name VARCHAR(200),\n",
    "Type VARCHAR(100),\n",
    "Price INT,\n",
    "PRIMARY KEY (ItemID)\n",
    ");\"\"\"\n",
    "\n",
    "# Create MenuItems table\n",
    "cursor.execute(create_menuitem_table)\n",
    "print(\"MenuItems table is created.\\n\")\n",
    "\n",
    "#*******************************************************#\n",
    "# Insert query to populate \"MenuItems\" table: \n",
    "#*******************************************************#\n",
    "insert_menuitems=\"\"\"\n",
    "INSERT INTO MenuItems (ItemID, Name, Type, Price)\n",
    "VALUES\n",
    "(1,'Olives','Starters',5),\n",
    "(2,'Flatbread','Starters', 5),\n",
    "(3, 'Minestrone', 'Starters', 8),\n",
    "(4, 'Tomato bread','Starters', 8),\n",
    "(5, 'Falafel', 'Starters', 7),\n",
    "(6, 'Hummus', 'Starters', 5),\n",
    "(7, 'Greek salad', 'Main Courses', 15),\n",
    "(8, 'Bean soup', 'Main Courses', 12),\n",
    "(9, 'Pizza', 'Main Courses', 15),\n",
    "(10,'Greek yoghurt','Desserts', 7),\n",
    "(11, 'Ice cream', 'Desserts', 6),\n",
    "(12, 'Cheesecake', 'Desserts', 4),\n",
    "(13, 'Athens White wine', 'Drinks', 25),\n",
    "(14, 'Corfu Red Wine', 'Drinks', 30),\n",
    "(15, 'Turkish Coffee', 'Drinks', 10),\n",
    "(16, 'Turkish Coffee', 'Drinks', 10),\n",
    "(17, 'Kabasa', 'Main Courses', 17);\"\"\"\n",
    "\n",
    "print(\"Inserting data in MenuItems table.\")\n",
    "# Populate MenuItems table\n",
    "cursor.execute(insert_menuitems)\n",
    "print(\"Total number of rows in MenuItem table: {}\\n\".format(cursor.rowcount))\n",
    "# Once the query is executed,  commit the change to the database \n",
    "connection.commit()"
   ]
  },
  {
   "cell_type": "markdown",
   "id": "73aaa933-4184-4815-b700-0bf100d03cad",
   "metadata": {},
   "source": [
    "### Step 5: Create the Menus table in the database and populate it with the data"
   ]
  },
  {
   "cell_type": "code",
   "execution_count": 5,
   "id": "2237ee8f-3b1f-4023-9fa1-8ffefb0d9fa8",
   "metadata": {},
   "outputs": [
    {
     "name": "stdout",
     "output_type": "stream",
     "text": [
      "Menu table is created.\n",
      "\n",
      "Inserting data in Menus table.\n",
      "Total number of rows in Menu table: 12\n",
      "\n"
     ]
    }
   ],
   "source": [
    "# The SQL query for the Menus table is:\n",
    "create_menu_table=\"\"\"\n",
    "CREATE TABLE Menus (\n",
    "MenuID INT,\n",
    "ItemID INT,\n",
    "Cuisine VARCHAR(100),\n",
    "PRIMARY KEY (MenuID, ItemID)\n",
    ");\"\"\"\n",
    "\n",
    "# Create Menus table\n",
    "cursor.execute(create_menu_table)\n",
    "print(\"Menu table is created.\\n\")\n",
    "\n",
    "\n",
    "#*******************************************************#\n",
    "# Insert query to populate \"Menus\" table: \n",
    "#*******************************************************#\n",
    "insert_menus=\"\"\"\n",
    "INSERT INTO Menus (MenuID, ItemID, Cuisine)\n",
    "VALUES\n",
    "(1, 1, 'Greek'),\n",
    "(1, 7, 'Greek'),\n",
    "(1, 10, 'Greek'),\n",
    "(1, 13, 'Greek'),\n",
    "(2, 3, 'Italian'),\n",
    "(2, 9, 'Italian'),\n",
    "(2, 12, 'Italian'),\n",
    "(2, 15, 'Italian'),\n",
    "(3, 5, 'Turkish'),\n",
    "(3, 17, 'Turkish'),\n",
    "(3, 11, 'Turkish'),\n",
    "(3, 16, 'Turkish');\"\"\"\n",
    "\n",
    "print(\"Inserting data in Menus table.\")\n",
    "# Populate Menus table\n",
    "cursor.execute(insert_menus)\n",
    "print(\"Total number of rows in Menu table: {}\\n\".format(cursor.rowcount))\n",
    "connection.commit()"
   ]
  },
  {
   "cell_type": "markdown",
   "id": "d8fafc15-4bd4-4acb-8476-8f1e6bf79d72",
   "metadata": {},
   "source": [
    "### Step 6: Create the Bookings table in the database and populate it with  data"
   ]
  },
  {
   "cell_type": "code",
   "execution_count": 6,
   "id": "fcca331c-9b5e-429a-8e20-53b13bf1f4e1",
   "metadata": {},
   "outputs": [
    {
     "name": "stdout",
     "output_type": "stream",
     "text": [
      "Bookings table is created.\n",
      "\n",
      "Inserting data in Bookings table.\n",
      "Total number of rows in Bookings table: 6\n",
      "\n"
     ]
    }
   ],
   "source": [
    "# SQL query for Bookings table::\n",
    "create_booking_table=\"\"\"\n",
    "CREATE TABLE Bookings (\n",
    "BookingID INT AUTO_INCREMENT,\n",
    "TableNo INT,\n",
    "GuestFirstName VARCHAR(100) NOT NULL,\n",
    "GuestLastName VARCHAR(100) NOT NULL,\n",
    "BookingSlot TIME NOT NULL,\n",
    "EmployeeID INT,\n",
    "PRIMARY KEY (BookingID)\n",
    ");\"\"\"\n",
    "\n",
    "# Create Bookings table\n",
    "cursor.execute(create_booking_table)\n",
    "print(\"Bookings table is created.\\n\")\n",
    "\n",
    "#*******************************************************#\n",
    "# Insert query to populate \"Bookings\" table: \n",
    "#*******************************************************#\n",
    "insert_bookings=\"\"\"\n",
    "INSERT INTO Bookings (BookingID, TableNo, GuestFirstName, \n",
    "GuestLastName, BookingSlot, EmployeeID)\n",
    "VALUES\n",
    "(1,12,'Anna','Iversen','19:00:00',1),\n",
    "(2, 12, 'Joakim', 'Iversen', '19:00:00', 1),\n",
    "(3, 19, 'Vanessa', 'McCarthy', '15:00:00', 3),\n",
    "(4, 15, 'Marcos', 'Romero', '17:30:00', 4),\n",
    "(5, 5, 'Hiroki', 'Yamane', '18:30:00', 2),\n",
    "(6, 8, 'Diana', 'Pinto', '20:00:00', 5);\"\"\"\n",
    "\n",
    "print(\"Inserting data in Bookings table.\")\n",
    "# Populate Bookings table\n",
    "cursor.execute(insert_bookings)\n",
    "print(\"Total number of rows in Bookings table: {}\\n\".format(cursor.rowcount))\n",
    "connection.commit()\n"
   ]
  },
  {
   "cell_type": "markdown",
   "id": "177ef949-8ec8-4fb1-8b3c-c6c9755e8238",
   "metadata": {},
   "source": [
    "### Step 7: Create the Orders table in the database and populate it with the data"
   ]
  },
  {
   "cell_type": "code",
   "execution_count": 7,
   "id": "605bbea9-bdf8-47c3-b469-ed041f4ecc9c",
   "metadata": {},
   "outputs": [
    {
     "name": "stdout",
     "output_type": "stream",
     "text": [
      "Orders table is created.\n",
      "\n",
      "Inserting data in Orders table.\n",
      "Total number of rows in Orders table: 5\n",
      "\n"
     ]
    }
   ],
   "source": [
    "#  SQL query for Orders table: \n",
    "create_orders_table=\"\"\"\n",
    "CREATE TABLE Orders (\n",
    "OrderID INT,\n",
    "TableNo INT,\n",
    "MenuID INT,\n",
    "BookingID INT,\n",
    "BillAmount INT,\n",
    "Quantity INT,\n",
    "PRIMARY KEY (OrderID,TableNo)\n",
    ");\"\"\"\n",
    "\n",
    "# Create Orders table\n",
    "cursor.execute(create_orders_table)\n",
    "print(\"Orders table is created.\\n\")\n",
    "\n",
    "#*******************************************************#\n",
    "# Insert query to populate \"Orders\" table is:\n",
    "#*******************************************************#\n",
    "insert_orders=\"\"\"\n",
    "INSERT INTO Orders (OrderID, TableNo, MenuID, BookingID, Quantity, BillAmount)\n",
    "VALUES\n",
    "(1, 12, 1, 1, 2, 86),\n",
    "(2, 19, 2, 2, 1, 37),\n",
    "(3, 15, 2, 3, 1, 37),\n",
    "(4, 5, 3, 4, 1, 40),\n",
    "(5, 8, 1, 5, 1, 43);\"\"\"\n",
    "\n",
    "print(\"Inserting data in Orders table.\")\n",
    "# Populate Orders table\n",
    "cursor.execute(insert_orders)\n",
    "print(\"Total number of rows in Orders table: {}\\n\".format(cursor.rowcount))\n",
    "connection.commit()"
   ]
  },
  {
   "cell_type": "markdown",
   "id": "f5b4fd51-e35e-4325-a523-7fa5b91ff0ce",
   "metadata": {},
   "source": [
    "### Step 8: Create the Employees table in the database and populate it with  data"
   ]
  },
  {
   "cell_type": "code",
   "execution_count": 8,
   "id": "8fc0a163-7e7c-4d17-863c-be158cea28a8",
   "metadata": {},
   "outputs": [
    {
     "name": "stdout",
     "output_type": "stream",
     "text": [
      "Inserting data in the Employees table.\n",
      "Total number of rows in the Employees table:  6\n"
     ]
    }
   ],
   "source": [
    "#  SQL query for  Employees table: \n",
    "create_employees_table=\"\"\"\n",
    "CREATE TABLE Employees (\n",
    "EmployeeID INT AUTO_INCREMENT,\n",
    "Name VARCHAR(200),\n",
    "Role VARCHAR(100),\n",
    "Address VARCHAR(200),\n",
    "Contact_Number INT,\n",
    "Email VARCHAR(100),\n",
    "Annual_Salary VARCHAR(100),\n",
    "PRIMARY KEY (EmployeeID)\n",
    ");\"\"\"\n",
    "\n",
    "# Create Employees table\n",
    "cursor.execute(create_employees_table)\n",
    "\n",
    "#*******************************************************#\n",
    "# Insert query to populate \"Employees\" table: \n",
    "#*******************************************************#\n",
    "insert_employees=\"\"\"\n",
    "INSERT INTO Employees (EmployeeID, Name, Role, Address, Contact_Number, Email, Annual_Salary)\n",
    "VALUES\n",
    "(01,'Mario Gollini','Manager','724, Parsley Lane, Old Town, Chicago, IL',351258074,'Mario.g@littlelemon.com','$70,000'),\n",
    "(02,'Adrian Gollini','Assistant Manager','334, Dill Square, Lincoln Park, Chicago, IL',351474048,'Adrian.g@littlelemon.com','$65,000'),\n",
    "(03,'Giorgos Dioudis','Head Chef','879 Sage Street, West Loop, Chicago, IL',351970582,'Giorgos.d@littlelemon.com','$50,000'),\n",
    "(04,'Fatma Kaya','Assistant Chef','132  Bay Lane, Chicago, IL',351963569,'Fatma.k@littlelemon.com','$45,000'),\n",
    "(05,'Elena Salvai','Head Waiter','989 Thyme Square, EdgeWater, Chicago, IL',351074198,'Elena.s@littlelemon.com','$40,000'),\n",
    "(06,'John Millar','Receptionist','245 Dill Square, Lincoln Park, Chicago, IL',351584508,'John.m@littlelemon.com','$35,000');\"\"\"\n",
    "\n",
    "\n",
    "print(\"Inserting data in the Employees table.\")\n",
    "# Populate Employees table\n",
    "cursor.execute(insert_employees)\n",
    "print(\"Total number of rows in the Employees table: \", cursor.rowcount)\n",
    "# Once the query is executed, you can commit the change to the database \n",
    "connection.commit()\n"
   ]
  },
  {
   "cell_type": "markdown",
   "id": "0406ce91-22d6-49cf-86d3-2a35071cc5ef",
   "metadata": {},
   "source": [
    "# Exercise 2: Implement and query stored procedures"
   ]
  },
  {
   "cell_type": "markdown",
   "id": "155af1b8-26e0-4869-8bf3-1af38e33ae56",
   "metadata": {},
   "source": [
    "### Step 1:\n",
    "\n",
    "- Establish a connection \n",
    "\n",
    "- Import MySQLConnectionPool.\n",
    "\n",
    "- Import Error.\n",
    "\n",
    "- Create a pool named pool_a with two connections. You need to use the try-except block to handle any possible errors.\n",
    "\n",
    "\n",
    "Your database configurations are as follows:"
   ]
  },
  {
   "cell_type": "code",
   "execution_count": 9,
   "id": "7221ce97-a3e5-4e60-8a75-d865d3517653",
   "metadata": {},
   "outputs": [],
   "source": [
    "dbconfig={\"database\":\"little_lemon_db\", \"user\":\"mario\", \"password\":\"cuisine\"}"
   ]
  },
  {
   "cell_type": "markdown",
   "id": "4f2659b9-5ee2-4afc-91ea-49acafd97114",
   "metadata": {},
   "source": [
    "- Get a connection from pool_a and create a cursor object to communicate with the database."
   ]
  },
  {
   "cell_type": "code",
   "execution_count": 10,
   "id": "be0e6a7a-0ede-42fc-9584-902e7f9ee0b6",
   "metadata": {},
   "outputs": [
    {
     "name": "stdout",
     "output_type": "stream",
     "text": [
      "The connection pool is created with a name:  pool_a\n",
      "The pool size is: 2\n"
     ]
    }
   ],
   "source": [
    "from mysql.connector.pooling import MySQLConnectionPool\n",
    "from mysql.connector import Error\n",
    "\n",
    "dbconfig = {\n",
    "    \"database\":\"little_lemon_db\",\n",
    "    \"user\" : \"mario\",\n",
    "    \"password\" : \"cuisine\"\n",
    "}\n",
    "\n",
    "try:\n",
    "    pool = MySQLConnectionPool(pool_name = \"pool_a\",pool_size = 2,**dbconfig)\n",
    "    print(\"The connection pool is created with a name: \",pool.pool_name)\n",
    "    print(\"The pool size is:\",pool.pool_size)\n",
    "\n",
    "except Error as er:\n",
    "    print(\"Error code:\", er.errno)\n",
    "    print(\"Error message:\", er.msg)\n"
   ]
  },
  {
   "cell_type": "markdown",
   "id": "50629d31-eb5e-40db-94ad-4b1eb0bb69b5",
   "metadata": {},
   "source": [
    "Get a connection from the pool:"
   ]
  },
  {
   "cell_type": "code",
   "execution_count": 11,
   "id": "38490bc6-a8b1-424c-9a48-7d57f3acf791",
   "metadata": {},
   "outputs": [
    {
     "name": "stdout",
     "output_type": "stream",
     "text": [
      "Getting a connection from the pool.\n",
      "'connection1' object is created with a connection from the pool\n"
     ]
    }
   ],
   "source": [
    "# Get the connection from the connection pool \"pool\"\n",
    "print(\"Getting a connection from the pool.\")\n",
    "connection1 = pool.get_connection()\n",
    "print(\"'connection1' object is created with a connection from the pool\")\n"
   ]
  },
  {
   "cell_type": "markdown",
   "id": "98668b9f-f121-46ea-9878-56462452c17a",
   "metadata": {},
   "source": [
    "Create the cursor object:"
   ]
  },
  {
   "cell_type": "code",
   "execution_count": 12,
   "id": "ae5c1fca-fe93-4ab6-8201-2811e9a1955d",
   "metadata": {},
   "outputs": [],
   "source": [
    "cursor=connection1.cursor()"
   ]
  },
  {
   "cell_type": "markdown",
   "id": "698bba1b-d0d1-4f17-8a62-80fbe0ab8dd1",
   "metadata": {},
   "source": [
    "### Step 2:\n",
    "\n",
    "Implement a stored procedure called PeakHours.\n",
    "\n",
    "Write a SQL CREATE PROCEDURE query for PeakHours:\n",
    "\n",
    "- Use HOUR to extract the hour data from the BookingSlot.\n",
    "\n",
    "- Use COUNT on the hour part of the BookingSlot data to count the number of bookings. \n",
    "\n",
    "- Use GROUP BY on the booking hour.\n",
    "\n",
    "- Use ORDER BY to retrieve the number of bookings in descending order.\n",
    "\n",
    "Run the stored procedure query by invoking the execute module on the cursor.\n",
    "\n",
    "Invoke callproc to call the stored procedure.\n",
    "\n",
    "Fetch the results in a variable called dataset.\n",
    "\n",
    "Extract the names of the columns.\n",
    "\n",
    "Print the names of the columns.\n",
    "\n",
    "Print the sorted data using a for loop."
   ]
  },
  {
   "cell_type": "code",
   "execution_count": 13,
   "id": "1d0a1c0e-4eca-48f1-891a-13d0f1ffc74d",
   "metadata": {},
   "outputs": [
    {
     "name": "stdout",
     "output_type": "stream",
     "text": [
      "['Booking_Hour', 'n_Bookings']\n",
      "(19, 2)\n",
      "(15, 1)\n",
      "(17, 1)\n",
      "(18, 1)\n",
      "(20, 1)\n"
     ]
    }
   ],
   "source": [
    "connection = pool.get_connection()\n",
    "cursor=connection.cursor()\n",
    "\n",
    "cursor.execute(\"DROP PROCEDURE IF EXISTS PeakHours;\")\n",
    "stored_procedure_query=\"\"\"\n",
    "CREATE PROCEDURE PeakHours()\n",
    "\n",
    "BEGIN\n",
    "\n",
    "SELECT \n",
    "HOUR(BookingSlot) AS Booking_Hour,\n",
    "COUNT(HOUR(BookingSlot)) AS n_Bookings\n",
    "FROM Bookings\n",
    "GROUP BY Booking_Hour\n",
    "ORDER BY n_Bookings DESC;\n",
    "\n",
    "END\n",
    "\n",
    "\"\"\"\n",
    "\n",
    "# Execute the query \n",
    "cursor.execute(stored_procedure_query)\n",
    "# Call the stored procedure with its name\n",
    "cursor.callproc(\"PeakHours\")\n",
    "\n",
    "# Retrieve records in \"dataset\"\n",
    "results = next(cursor.stored_results() )\n",
    "dataset = results.fetchall()\n",
    "\n",
    "# Retrieve column names using list comprehension in a for loop \n",
    "for column_id in cursor.stored_results():\n",
    "    columns = [column[0] for column in column_id.description]\n",
    "\n",
    "# Print column names:\n",
    "print(columns)\n",
    "\n",
    "# Print data \n",
    "for data in dataset:\n",
    "    print(data)"
   ]
  },
  {
   "cell_type": "markdown",
   "id": "1ac23919-5f4c-48b5-bded-8aafed9eb872",
   "metadata": {},
   "source": [
    "### Step 3:\n",
    "\n",
    "Implement a stored procedure called GuestStatus.\n",
    "\n",
    "Write a SQL CREATE PROCEDURE query for GuestStatus.\n",
    "\n",
    "Combine the first and last name of each guest from the booking column using a CONCAT function.\n",
    "\n",
    "Use the CASE function to implement the following order statuses for each guest:\n",
    "\n",
    "- If the Role in the Employee table is Manager or Assistant Manager then the status is Ready to pay.\n",
    "\n",
    "- If the Role in the Employee table is Head Chef then the status is Ready to serve.\n",
    "\n",
    "- If the Role in the Employee table is Assistant Chef then the status is Preparing order.\n",
    "\n",
    "- If the Role in the Employee table is Head Waiter then the status is Order served.\n",
    "\n",
    "Perform a LEFT JOIN on the Bookings table with the Employees table ON EmployeeID.\n",
    "\n",
    "Run the stored procedure query by invoking the execute module on the cursor object.\n",
    "\n",
    "Invoke callproc to call the stored procedure.\n",
    "\n",
    "Fetch the results in a variable called dataset.\n",
    "\n",
    "Extract the names of the columns.\n",
    "\n",
    "Print the names of the columns.\n",
    "\n",
    "Print the sorted data using a for loop.\n",
    "\n",
    "Close the connection to return it to the pool."
   ]
  },
  {
   "cell_type": "code",
   "execution_count": 14,
   "id": "4efa37f9-c3fe-4cfa-ac83-ff927fcaeb6e",
   "metadata": {},
   "outputs": [
    {
     "name": "stdout",
     "output_type": "stream",
     "text": [
      "['OrderNumber', 'GuestName', 'Employee', 'Status']\n",
      "(1, 'Anna Iversen', 'Manager', 'Ready to Pay')\n",
      "(2, 'Joakim Iversen', 'Manager', 'Ready to Pay')\n",
      "(3, 'Vanessa McCarthy', 'Head Chef', 'Ready to serve')\n",
      "(4, 'Marcos Romero', 'Assistant Chef', 'Preparing order')\n",
      "(5, 'Hiroki Yamane', 'Assistant Manager', 'Ready to Pay')\n",
      "(6, 'Diana Pinto', 'Head Waiter', 'Order served')\n"
     ]
    }
   ],
   "source": [
    "stored_procedure_query=\"\"\"\n",
    "CREATE PROCEDURE GuestStatus()\n",
    "\n",
    "BEGIN\n",
    "\n",
    "SELECT \n",
    "\n",
    "Bookings.BookingID AS OrderNumber,  \n",
    "CONCAT(GuestFirstName,' ',GuestLastName) AS GuestName, \n",
    "\n",
    "Role AS Employee, \n",
    "\n",
    "CASE \n",
    "WHEN Role IN ('Manager','Assistant Manager') THEN \"Ready to Pay\"\n",
    "WHEN Role = 'Head Chef' THEN \"Ready to serve\"\n",
    "WHEN Role = 'Assistant Chef' THEN \"Preparing order\"\n",
    "WHEN Role = 'Head Waiter' THEN \"Order served\"\n",
    "\n",
    "ELSE \"Pending\"\n",
    "END AS Status\n",
    "\n",
    "FROM Bookings \n",
    "LEFT JOIN \n",
    "Employees \n",
    "ON Employees.EmployeeID=Bookings.EmployeeID;\n",
    "\n",
    "END\n",
    "\"\"\"\n",
    "\n",
    "\n",
    "# Execute the query\n",
    "cursor.execute(stored_procedure_query)\n",
    "\n",
    "#********************************************#\n",
    "\n",
    "# Call the stored procedure with its name\n",
    "cursor.callproc(\"GuestStatus\")\n",
    "\n",
    "# Retrieve records in \"dataset\"\n",
    "results = next(cursor.stored_results())\n",
    "dataset = results.fetchall()\n",
    "\n",
    "# Retrieve column names using list comprehension in a for loop \n",
    "for column_id in cursor.stored_results():\n",
    "    columns = [column[0] for column in column_id.description]\n",
    "\n",
    "# Print column names\n",
    "print(columns)\n",
    "\n",
    "# Print data \n",
    "for data in dataset:\n",
    "    print(data)\n",
    "    \n",
    "connection1.close()"
   ]
  },
  {
   "cell_type": "markdown",
   "id": "59432091-47b0-480e-ba99-88ac10f91b00",
   "metadata": {},
   "source": [
    "# Exercise 3: Little Lemon analysis and sales report"
   ]
  },
  {
   "cell_type": "markdown",
   "id": "58d5bbde-126f-4b56-a02a-2f711dc2edf3",
   "metadata": {},
   "source": [
    "### Task 1:\n",
    "\n",
    "Complete the following steps to establish a connection pool:\n",
    "\n",
    "- To create a connection pool, import the MySQLConnectionPool class from MySQL Connector/Python.\n",
    "\n",
    "- To find the information on the error, import the Error class from MySQL Connector/Python.\n",
    "\n",
    "- Define your database configurations as a Python dictionary object called dbconfig.\n",
    "\n",
    "- Establish a connection pool [pool_name = “pool_b”] with two connections. \n",
    "\n",
    "- Implement error handling using a try-except block in case the connection fails. \n",
    "\n",
    "  "
   ]
  },
  {
   "cell_type": "code",
   "execution_count": 15,
   "id": "8a28431c-ad5e-43de-9d4c-ac16ac5aa724",
   "metadata": {},
   "outputs": [
    {
     "name": "stdout",
     "output_type": "stream",
     "text": [
      "The connection pool is created with the name:  pool_b\n",
      "The pool size is: 2\n"
     ]
    }
   ],
   "source": [
    "# Import MySQLConnectionPool class\n",
    "from mysql.connector.pooling import MySQLConnectionPool\n",
    "\n",
    "# Import Error class\n",
    "from mysql.connector import Error\n",
    "\n",
    "# Define database configurations\n",
    "dbconfig = {\n",
    "    \"database\":\"little_lemon_db\",\n",
    "    \"user\" : \"mario\",\n",
    "    \"password\" : \"cuisine\"\n",
    "}\n",
    "\n",
    "# Create a pool named \"pool_b\" with two connections.\n",
    "# try-except block\n",
    "try:\n",
    "    pool = MySQLConnectionPool(pool_name = \"pool_b\",pool_size = 2,**dbconfig)\n",
    "    print(\"The connection pool is created with the name: \",pool.pool_name)\n",
    "    print(\"The pool size is:\",pool.pool_size)\n",
    "\n",
    "except Error as er:\n",
    "    print(\"Error code:\", er.errno)\n",
    "    print(\"Error message:\", er.msg)"
   ]
  },
  {
   "cell_type": "markdown",
   "id": "1e2bf070-569f-460f-946d-73b9efaa3983",
   "metadata": {},
   "source": [
    "### Task 2:\n",
    "\n",
    "Three guests are trying to book dinner slots simultaneously. Get their connections from pool_b and insert the following data in the Bookings table. (TIP: You need to add a connection to connect the third guest.)\n",
    "\n",
    "\n",
    "Guest 1:\n",
    "\n",
    "- Table Number: 8\n",
    "\n",
    "- First Name: Anees\n",
    "\n",
    "- Last Name: Java\n",
    "\n",
    "- Booking Time: 18:00\n",
    "\n",
    "- EmployeeID: 6\n",
    "\n",
    "\n",
    "Guest 2:\n",
    "\n",
    "- Table Number: 5\n",
    "\n",
    "- First Name: Bald\n",
    "\n",
    "- Last Name: Vin\n",
    "\n",
    "- Booking Time: 19:00\n",
    "\n",
    "- EmployeeID: 6\n",
    "\n",
    "\n",
    "Guest 3:\n",
    "\n",
    "- Table Number: 12\n",
    "\n",
    "- First Name: Jay\n",
    "\n",
    "- Last Name: Kon\n",
    "\n",
    "- Booking Time: 19:30 \n",
    "\n",
    "- EmployeeID: 6\n",
    "\n",
    "\n",
    "Return all the connections back to the pool. (TIP: The pool size is 2. However, you have three connected users. You can only return two connections. Returning a third connection raises a PoolError. Use try-except to print the error message)  "
   ]
  },
  {
   "cell_type": "code",
   "execution_count": 16,
   "id": "c490c5fd-f473-4c16-a39e-84a1290cedb4",
   "metadata": {},
   "outputs": [
    {
     "name": "stdout",
     "output_type": "stream",
     "text": [
      "A new booking is added in the \"Bookings\" table.\n",
      "A new booking is added in the \"Bookings\" table.\n",
      "Adding new connection in the pool.\n",
      "A new connection is added in the pool.\n",
      "\n",
      "'connection3' is added in the pool.\n",
      "A new booking is added in the \"Bookings\" table.\n",
      "Connection is returned to the pool\n",
      "Connection is returned to the pool\n",
      "\n",
      "Connection can't be returned to the pool\n",
      "Error message: Failed adding connection; queue is full\n"
     ]
    }
   ],
   "source": [
    "# Connect the first guest.\n",
    "connection1 = pool.get_connection()\n",
    "cursor1=connection1.cursor()\n",
    "booking1=\"\"\"INSERT INTO Bookings \n",
    "(TableNo, GuestFirstName, GuestLastName, BookingSlot, EmployeeID)\n",
    "VALUES\n",
    "(8,'Anees','Java','18:00:00',6);\"\"\"\n",
    "cursor1.execute(booking1)\n",
    "connection1.commit()\n",
    "print(\"\"\"A new booking is added in the \"Bookings\" table.\"\"\")\n",
    "\n",
    "# Connect the second guest .\n",
    "connection2 = pool.get_connection()\n",
    "cursor2=connection2.cursor()\n",
    "booking2=\"\"\"INSERT INTO Bookings \n",
    "(TableNo, GuestFirstName, GuestLastName, BookingSlot, EmployeeID)\n",
    "VALUES\n",
    "(5, 'Bald','Vin','19:00:00',6);\"\"\"\n",
    "cursor2.execute(booking2)\n",
    "connection2.commit()\n",
    "print(\"\"\"A new booking is added in the \"Bookings\" table.\"\"\")\n",
    "\n",
    "# Adding a new connection to connect the third user.\n",
    "import mysql.connector as connector\n",
    "try:\n",
    "    connection3 = pool.get_connection()\n",
    "    print(\"The guest is connected\")\n",
    "except:\n",
    "    print(\"Adding new connection in the pool.\")\n",
    "        \n",
    "    # Create a connection\n",
    "    connection=connector.connect(user=\"mario\",password=\"cuisine\")\n",
    "    # Add the connection into the pool\n",
    "    pool.add_connection(cnx=connection)\n",
    "    print(\"A new connection is added in the pool.\\n\")\n",
    "        \n",
    "    connection3 = pool.get_connection()\n",
    "    print(\"'connection3' is added in the pool.\")\n",
    "    \n",
    "# Connect the third guest \n",
    "cursor3=connection3.cursor()\n",
    "booking3=\"\"\"INSERT INTO Bookings \n",
    "(TableNo, GuestFirstName, GuestLastName, BookingSlot, EmployeeID)\n",
    "VALUES\n",
    "(12, 'Jay','Kon','19:30:00',6);\"\"\"\n",
    "cursor3.execute(booking3)\n",
    "connection3.commit()\n",
    "print(\"\"\"A new booking is added in the \"Bookings\" table.\"\"\")\n",
    "\n",
    "# You can only return two connections back to the pool as the pool_size=2.\n",
    "#  Close all  connections and use try-except to print the pool error if the pool is already full.\n",
    "\n",
    "from mysql.connector import Error\n",
    "for connection in [connection1,connection2, connection3]:\n",
    "    try:\n",
    "        connection.close()\n",
    "        print(\"Connection is returned to the pool\")\n",
    "    except Error as er:\n",
    "        print(\"\\nConnection can't be returned to the pool\")\n",
    "        print(\"Error message:\", er.msg)\n"
   ]
  },
  {
   "cell_type": "markdown",
   "id": "be5fecf1-62b6-4d94-9da9-71069b8d6ffa",
   "metadata": {},
   "source": [
    "### Task 3:\n",
    "\n",
    "Create a report containing the following information:\n",
    "\n",
    "- The name and EmployeeID of the Little Lemon manager.\n",
    "\n",
    "- The name and role of the employee who receives the highest salary.\n",
    "\n",
    "- The number of guests booked between 18:00 and 20:00.\n",
    "\n",
    "- The full name and the BookingId of each guest waiting to be seated with the receptionist in sorted order with respect to their BookingSlot."
   ]
  },
  {
   "cell_type": "code",
   "execution_count": 17,
   "id": "599c4e90-dd32-4263-be33-f71aacb42d38",
   "metadata": {},
   "outputs": [
    {
     "name": "stdout",
     "output_type": "stream",
     "text": [
      "Getting a connection from the pool.\n",
      "The object \"connection\" is created with a connection link from the pool_a\n",
      "Creating a cursor object to communicate with the database.\n",
      "The cursor object \"cursor\" is created.\n",
      "('Name', 'EmployeeID')\n",
      "('Mario Gollini', 1)\n",
      "('Name', 'EmployeeID')\n",
      "('Mario Gollini', 1)\n",
      "('n_booking_between_18_20_hrs',)\n",
      "(7,)\n",
      "The following guests are waiting to be seated:\n",
      "('ID', 'GuestName', 'Employee')\n",
      "(9, 'Jay Kon', 'Receptionist')\n",
      "(8, 'Bald Vin', 'Receptionist')\n",
      "(7, 'Anees Java', 'Receptionist')\n"
     ]
    }
   ],
   "source": [
    "# Get a connection from pool_a and create a cursor object to communicate with the database. \n",
    "print(\"Getting a connection from the pool.\")\n",
    "connection = pool.get_connection()\n",
    "print(\"\"\"The object \"connection\" is created with a connection link from the pool_a\"\"\")\n",
    "print(\"\"\"Creating a cursor object to communicate with the database.\"\"\")\n",
    "cursor=connection.cursor()\n",
    "print(\"\"\"The cursor object \"cursor\" is created.\"\"\")\n",
    "\n",
    "# The name and EmployeeID of the Little Lemon manager.\n",
    "cursor.execute(\"\"\"SELECT \n",
    "Name, EmployeeID \n",
    "FROM Employees \n",
    "WHERE Role = 'Manager'\"\"\")\n",
    "results=cursor.fetchall()\n",
    "columns=cursor.column_names\n",
    "print(columns)\n",
    "for result in results:\n",
    "    print(result)\n",
    "\n",
    "# The name and role of the employee who receives the highest salary.\n",
    "cursor.execute(\"\"\"SELECT \n",
    "Name, EmployeeID \n",
    "FROM Employees ORDER BY \n",
    "Annual_Salary DESC LIMIT 1\"\"\")\n",
    "results=cursor.fetchall()\n",
    "columns=cursor.column_names\n",
    "print(columns)\n",
    "for result in results:\n",
    "    print(result)\n",
    "\n",
    "# The number of guests booked between 18:00:00 and 20:00:00.\n",
    "cursor.execute(\"\"\"SELECT \n",
    "COUNT(BookingID) n_booking_between_18_20_hrs\n",
    "FROM Bookings \n",
    "WHERE BookingSlot BETWEEN '18:00:00' AND '20:00:00';\"\"\")\n",
    "results=cursor.fetchall()\n",
    "columns=cursor.column_names\n",
    "print(columns)\n",
    "for result in results:\n",
    "    print(result)\n",
    "\n",
    "# Full name and the BookingId of each guest  waiting to be seated  \n",
    "# with the receptionist in sorted order with respect to their BookingSlot.\n",
    "\n",
    "cursor.execute(\"\"\"\n",
    "SELECT \n",
    "\n",
    "Bookings.BookingID AS ID,  \n",
    "CONCAT(GuestFirstName,' ',GuestLastName) AS GuestName, \n",
    "\n",
    "Role AS Employee\n",
    "\n",
    "FROM Bookings \n",
    "LEFT JOIN \n",
    "Employees \n",
    "ON Employees.EmployeeID=Bookings.EmployeeID\n",
    "WHERE Employees.Role = \"Receptionist\"\n",
    "ORDER BY BookingSlot DESC;\n",
    "\n",
    "\"\"\")\n",
    "print(\"The following guests are waiting to be seated:\")\n",
    "results=cursor.fetchall()\n",
    "columns=cursor.column_names\n",
    "print(columns)\n",
    "for result in results:\n",
    "    print(result)\n",
    "\n"
   ]
  },
  {
   "cell_type": "markdown",
   "id": "e752c9bb-7c28-4c43-8c0c-924e8192d52a",
   "metadata": {},
   "source": [
    "### Task 4:\n",
    "\n",
    "Create a stored procedure called BasicSalesReport that returns the following statistics. \n",
    "\n",
    "- Total sales\n",
    "\n",
    "- Average sale\n",
    "\n",
    "- Minimum bill paid\n",
    "\n",
    "- Maximum bill paid"
   ]
  },
  {
   "cell_type": "code",
   "execution_count": 18,
   "id": "b4386bf1-a79b-4039-ba02-d0b379de1e5d",
   "metadata": {},
   "outputs": [
    {
     "name": "stdout",
     "output_type": "stream",
     "text": [
      "Today's sales report:\n",
      "\t Total_Sale : 243\n",
      "\t Average_Sale : 48.6000\n",
      "\t Min_Bill_Paid : 37\n",
      "\t Max_Bill_Paid : 86\n"
     ]
    }
   ],
   "source": [
    "# Create a stored procedure named BasicSalesReport. \n",
    "cursor.execute(\"DROP PROCEDURE IF EXISTS BasicSalesReport;\")\n",
    "\n",
    "stored_procedure_query=\"\"\"\n",
    "CREATE PROCEDURE BasicSalesReport()\n",
    "\n",
    "BEGIN\n",
    "SELECT \n",
    "SUM(BillAmount) AS Total_Sale,\n",
    "AVG(BillAmount) AS Average_Sale,\n",
    "MIN(BillAmount) AS Min_Bill_Paid,\n",
    "MAX(BillAmount) AS Max_Bill_Paid\n",
    "FROM Orders;\n",
    "END\n",
    "\"\"\"\n",
    "\n",
    "# Execute the query\n",
    "cursor.execute(stored_procedure_query)\n",
    "\n",
    "#********************************************#\n",
    "\n",
    "# Call the stored procedure with its name\n",
    "cursor.callproc(\"BasicSalesReport\")\n",
    "\n",
    "# Retrieve records in \"dataset\"\n",
    "results = next(cursor.stored_results())\n",
    "results = results.fetchall()\n",
    "\n",
    "# Retrieve column names using list comprehension in a for loop \n",
    "for column_id in cursor.stored_results():\n",
    "    cols = [column[0] for column in column_id.description]\n",
    "\n",
    "    \n",
    "print(\"Today's sales report:\")\n",
    "for result in results:\n",
    "    print(\"\\t\",cols[0],\":\",result[0])\n",
    "    print(\"\\t\",cols[1],\":\",result[1])\n",
    "    print(\"\\t\",cols[2],\":\",result[2])\n",
    "    print(\"\\t\",cols[3],\":\",result[3])\n"
   ]
  },
  {
   "cell_type": "markdown",
   "id": "f8b089d9-543a-4570-8754-86564d4f53f5",
   "metadata": {},
   "source": [
    "### Task 5:       \n",
    "\n",
    "Little Lemon needs to display the next three upcoming bookings from the Bookings table on the kitchen screen to notify their chefs that the orders are due. \n",
    "\n",
    "- Get a connection from the pool.\n",
    "\n",
    "- Create a buffered cursor.\n",
    "\n",
    "- Combine the data from the Bookings and the Employee tables, sort the retrieved records in ascending order, and display the information of the first three guests. \n",
    "\n",
    "- Return the connection back to the pool.\n",
    "\n",
    "The output should be as follows:\n",
    "\n",
    "[BookingSlot]\n",
    "\n",
    "[Guest_name]\n",
    "\n",
    "[Assigned to: Employee Name [Employee Role]]"
   ]
  },
  {
   "cell_type": "code",
   "execution_count": 19,
   "id": "a3b36f62-9bb4-49b8-a085-05d3cffdabba",
   "metadata": {},
   "outputs": [
    {
     "name": "stdout",
     "output_type": "stream",
     "text": [
      "\n",
      "BookingSlot 15:00:00\n",
      "\tGuest_name: Vanessa McCarthy\n",
      "\tAssigned to: Giorgos Dioudis [Head Chef]\n",
      "\n",
      "BookingSlot 17:30:00\n",
      "\tGuest_name: Marcos Romero\n",
      "\tAssigned to: Fatma Kaya [Assistant Chef]\n",
      "\n",
      "BookingSlot 18:00:00\n",
      "\tGuest_name: Anees Java\n",
      "\tAssigned to: John Millar [Receptionist]\n"
     ]
    }
   ],
   "source": [
    "connection = pool.get_connection()\n",
    "cursor=connection.cursor(buffered=True)\n",
    "\n",
    "sql_query=\"\"\"SELECT \n",
    "Bookings.BookingSlot,\n",
    "CONCAT(Bookings.GuestFirstName,\" \",Bookings.GuestLastName) AS Guest_Name,\n",
    "Employees.Name AS Emp_Name,\n",
    "Employees.Role AS Emp_Role\n",
    "FROM Bookings \n",
    "INNER JOIN \n",
    "Employees ON Bookings.EmployeeID=Employees.EmployeeID\n",
    "ORDER BY Bookings.BookingSlot ASC;\"\"\"\n",
    "cursor.execute(sql_query)\n",
    "results=cursor.fetchmany(size=3)\n",
    "#print(cursor.column_names)\n",
    "for result in results:\n",
    "    print(\"\\nBookingSlot\",result[0])\n",
    "    print(\"\\tGuest_name:\",result[1])\n",
    "    print(\"\\tAssigned to:\",result[2],\"[{}]\".format(result[3]))\n",
    "    \n",
    "connection.close()"
   ]
  }
 ],
 "metadata": {
  "kernelspec": {
   "display_name": "Python 3 (ipykernel)",
   "language": "python",
   "name": "python3"
  },
  "language_info": {
   "codemirror_mode": {
    "name": "ipython",
    "version": 3
   },
   "file_extension": ".py",
   "mimetype": "text/x-python",
   "name": "python",
   "nbconvert_exporter": "python",
   "pygments_lexer": "ipython3",
   "version": "3.12.4"
  }
 },
 "nbformat": 4,
 "nbformat_minor": 5
}
