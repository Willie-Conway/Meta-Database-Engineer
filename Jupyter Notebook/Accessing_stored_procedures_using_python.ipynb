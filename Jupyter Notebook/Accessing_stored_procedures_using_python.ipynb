{
 "cells": [
  {
   "cell_type": "code",
   "execution_count": 1,
   "id": "cbcdfefc-0085-468d-b00b-3bc89eb339a5",
   "metadata": {},
   "outputs": [],
   "source": [
    "import mysql.connector as connector"
   ]
  },
  {
   "cell_type": "code",
   "execution_count": 2,
   "id": "e6cd3807-e3da-4241-90c1-02a7e049c1e6",
   "metadata": {},
   "outputs": [],
   "source": [
    "connection = connector.connect(user=\"mario\", password=\"cuisine\")"
   ]
  },
  {
   "cell_type": "code",
   "execution_count": 3,
   "id": "9ac040fa-d248-4d73-806b-e7fbd799ba87",
   "metadata": {},
   "outputs": [],
   "source": [
    "cursor=connection.cursor()"
   ]
  },
  {
   "cell_type": "code",
   "execution_count": 4,
   "id": "b9eda351-28de-49a4-8a3c-b468c7d01db7",
   "metadata": {},
   "outputs": [],
   "source": [
    "use_database_query=\"\"\"USE little_lemon\"\"\""
   ]
  },
  {
   "cell_type": "code",
   "execution_count": 5,
   "id": "f49a5019-5ce5-463b-9c0e-8d1ea05c0cc1",
   "metadata": {},
   "outputs": [],
   "source": [
    "cursor.execute(use_database_query)"
   ]
  },
  {
   "cell_type": "code",
   "execution_count": 12,
   "id": "bc3026fd-1a17-47c3-b5d1-23944be79be1",
   "metadata": {},
   "outputs": [],
   "source": [
    "stored_procedure_query=\"\"\"\n",
    "CREATE PROCEDURE GetCustomersAndBillAmount()\n",
    "BEGIN\n",
    "SELECT bookings.BookingID,\n",
    "CONCAT(bookings.GuestFirstName,' ', bookings.GuestLastName) AS CustomerName,\n",
    "Orders.BillAmount\n",
    "FROM bookings\n",
    "INNER JOIN\n",
    "ORDERS ON bookings.BookingID=Orders.BookingID\n",
    "WHERE BillAmount >=50\n",
    "ORDER BY BillAmount DESC;\n",
    "END\n",
    "\"\"\""
   ]
  },
  {
   "cell_type": "code",
   "execution_count": 14,
   "id": "cf8f3018-292b-418a-bc9c-a021176f2fa6",
   "metadata": {},
   "outputs": [],
   "source": [
    "# cursor.execute(stored_procedure_query)"
   ]
  },
  {
   "cell_type": "code",
   "execution_count": 8,
   "id": "4d701aac-f792-4379-a408-b1cd50f4a0b8",
   "metadata": {},
   "outputs": [
    {
     "data": {
      "text/plain": [
       "()"
      ]
     },
     "execution_count": 8,
     "metadata": {},
     "output_type": "execute_result"
    }
   ],
   "source": [
    "cursor.callproc(\"GetCustomersAndBillAmount\")"
   ]
  },
  {
   "cell_type": "code",
   "execution_count": 9,
   "id": "830af85c-09bc-4329-bfc1-d8a181271f3e",
   "metadata": {},
   "outputs": [],
   "source": [
    "results=next(cursor.stored_results())"
   ]
  },
  {
   "cell_type": "code",
   "execution_count": 10,
   "id": "2be3b0aa-b44f-4370-8e0a-cbfa2fb2eb9b",
   "metadata": {},
   "outputs": [],
   "source": [
    "dataset=results.fetchall()"
   ]
  },
  {
   "cell_type": "code",
   "execution_count": 11,
   "id": "81fd324f-4110-45b9-ac40-4e7078f2b3bc",
   "metadata": {},
   "outputs": [
    {
     "name": "stdout",
     "output_type": "stream",
     "text": [
      "(1, 'Anna Iverson', Decimal('175.00'))\n",
      "(2, 'John Doe', Decimal('80.00'))\n",
      "(3, 'Jane Smith', Decimal('65.00'))\n"
     ]
    }
   ],
   "source": [
    "for data in dataset:\n",
    "    print(data)"
   ]
  }
 ],
 "metadata": {
  "kernelspec": {
   "display_name": "Python 3 (ipykernel)",
   "language": "python",
   "name": "python3"
  },
  "language_info": {
   "codemirror_mode": {
    "name": "ipython",
    "version": 3
   },
   "file_extension": ".py",
   "mimetype": "text/x-python",
   "name": "python",
   "nbconvert_exporter": "python",
   "pygments_lexer": "ipython3",
   "version": "3.12.4"
  }
 },
 "nbformat": 4,
 "nbformat_minor": 5
}
