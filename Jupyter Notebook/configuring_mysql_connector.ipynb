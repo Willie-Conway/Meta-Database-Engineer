{
 "cells": [
  {
   "cell_type": "code",
   "execution_count": 1,
   "id": "832f7cc6-f284-477f-8955-15ee9870d113",
   "metadata": {},
   "outputs": [
    {
     "name": "stdout",
     "output_type": "stream",
     "text": [
      "Collecting mysql-connector-python\n",
      "  Downloading mysql_connector_python-9.0.0-cp312-cp312-win_amd64.whl.metadata (2.0 kB)\n",
      "Downloading mysql_connector_python-9.0.0-cp312-cp312-win_amd64.whl (14.3 MB)\n",
      "   ---------------------------------------- 0.0/14.3 MB ? eta -:--:--\n",
      "   ----------- ---------------------------- 4.2/14.3 MB 25.2 MB/s eta 0:00:01\n",
      "   --------------------------- ------------ 9.7/14.3 MB 25.2 MB/s eta 0:00:01\n",
      "   ---------------------------------------  14.2/14.3 MB 25.4 MB/s eta 0:00:01\n",
      "   ---------------------------------------- 14.3/14.3 MB 23.7 MB/s eta 0:00:00\n",
      "Installing collected packages: mysql-connector-python\n",
      "Successfully installed mysql-connector-python-9.0.0\n"
     ]
    }
   ],
   "source": [
    "!pip install mysql-connector-python"
   ]
  },
  {
   "cell_type": "code",
   "execution_count": 2,
   "id": "0bad0c59-1a5c-4ed6-84b6-83a87be163d2",
   "metadata": {},
   "outputs": [],
   "source": [
    "import mysql.connector as connector"
   ]
  },
  {
   "cell_type": "code",
   "execution_count": 2,
   "id": "b18a0ef5-1822-4ea2-8b91-945a4e9d3a03",
   "metadata": {},
   "outputs": [],
   "source": [
    "import mysql.connector"
   ]
  },
  {
   "cell_type": "code",
   "execution_count": 3,
   "id": "591f31cb-4655-4686-927f-bb653d18b1ca",
   "metadata": {},
   "outputs": [
    {
     "name": "stdout",
     "output_type": "stream",
     "text": [
      "Successfully connected to the database.\n"
     ]
    }
   ],
   "source": [
    "\n",
    "# Create a connection object\n",
    "connection = mysql.connector.connect(\n",
    "    user=\"mario\",\n",
    "    password=\"cuisine\",\n",
    "    host=\"localhost\"\n",
    ")\n",
    "\n",
    "# Check if the connection is successful\n",
    "if connection.is_connected():\n",
    "    print(\"Successfully connected to the database.\")\n",
    "else:\n",
    "    print(\"Failed to connect to the database.\")"
   ]
  },
  {
   "cell_type": "code",
   "execution_count": 4,
   "id": "fca1e2f2-d87e-4dea-a6c3-ca1e12bf8556",
   "metadata": {},
   "outputs": [],
   "source": [
    "cursor=connection.cursor()"
   ]
  },
  {
   "cell_type": "code",
   "execution_count": 5,
   "id": "a77252cd-491d-4c43-864a-63fec498d227",
   "metadata": {},
   "outputs": [],
   "source": [
    "create_database_query=\"\"\"CREATE DATABASE little_lemon\"\"\""
   ]
  },
  {
   "cell_type": "code",
   "execution_count": 6,
   "id": "7b03f1fe-a252-4f26-a3d6-7540b76a996f",
   "metadata": {},
   "outputs": [],
   "source": [
    "cursor.execute(create_database_query)"
   ]
  },
  {
   "cell_type": "code",
   "execution_count": 7,
   "id": "3d7ecf8c-a07e-439d-8782-fbbd8f106d5f",
   "metadata": {},
   "outputs": [],
   "source": [
    "use_database_query=\"\"\"USE little_lemon\"\"\""
   ]
  },
  {
   "cell_type": "code",
   "execution_count": 8,
   "id": "a023d351-650d-4e65-9e73-a62096f18295",
   "metadata": {},
   "outputs": [],
   "source": [
    "cursor.execute(use_database_query)"
   ]
  },
  {
   "cell_type": "code",
   "execution_count": 9,
   "id": "2465ae99-164a-4bf2-8a77-1f4720e3cb2a",
   "metadata": {},
   "outputs": [],
   "source": [
    "create_menuitem_table=\"\"\"\n",
    "CREATE TABLE MenuItems(\n",
    "ItemID INT AUTO_INCREMENT,\n",
    "Name VARCHAR(200),\n",
    "Type VARCHAR(100),\n",
    "Price INT,\n",
    "PRIMARY KEY(ItemID) \n",
    ")\n",
    "\"\"\""
   ]
  },
  {
   "cell_type": "code",
   "execution_count": 10,
   "id": "e8a714c9-5888-4092-9ce7-de70e010545a",
   "metadata": {},
   "outputs": [],
   "source": [
    "cursor.execute(create_menuitem_table)"
   ]
  },
  {
   "cell_type": "code",
   "execution_count": null,
   "id": "12f76b71-5d8a-429b-aeac-d7098873f570",
   "metadata": {},
   "outputs": [],
   "source": []
  }
 ],
 "metadata": {
  "kernelspec": {
   "display_name": "Python 3 (ipykernel)",
   "language": "python",
   "name": "python3"
  },
  "language_info": {
   "codemirror_mode": {
    "name": "ipython",
    "version": 3
   },
   "file_extension": ".py",
   "mimetype": "text/x-python",
   "name": "python",
   "nbconvert_exporter": "python",
   "pygments_lexer": "ipython3",
   "version": "3.12.4"
  }
 },
 "nbformat": 4,
 "nbformat_minor": 5
}
