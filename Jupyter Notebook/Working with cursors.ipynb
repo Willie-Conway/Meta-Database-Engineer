{
 "cells": [
  {
   "cell_type": "markdown",
   "id": "872ea63b-610b-407d-90b4-dcb713139a11",
   "metadata": {},
   "source": [
    "## Working with cursors"
   ]
  },
  {
   "cell_type": "markdown",
   "id": "f59cc77a-2565-40e7-b4a7-c033a03b8e23",
   "metadata": {},
   "source": [
    "## Prerequisites: \n",
    "\n",
    "You must have access to the `little_lemon` database. As an authorized user, you need to establish a connection between Python and the database via the MySQL Connector/Python API using the following code: "
   ]
  },
  {
   "cell_type": "code",
   "execution_count": null,
   "id": "1aca3dd1-d3cb-4040-b01a-ee579bd9196f",
   "metadata": {},
   "outputs": [],
   "source": [
    "# Import MySQL Connector/Python\n",
    "import mysql.connector as connector"
   ]
  },
  {
   "cell_type": "code",
   "execution_count": null,
   "id": "ee690449-6fea-44a3-a308-5b16a04d4044",
   "metadata": {},
   "outputs": [],
   "source": [
    "# Establish connection between Python and MySQL database via connector API\n",
    "connection=connector.connect(\n",
    "                             user=\"root\",\n",
    "                             password=\"\",\n",
    "                            )"
   ]
  },
  {
   "cell_type": "markdown",
   "id": "cf15f59b-eda6-4be1-9e97-930ef849c705",
   "metadata": {},
   "source": [
    "## Scenario: \n",
    "\n",
    "Little Lemon needs to perform some basic tasks on its databases such as setting up the database and checking the names of the tables in the database. For this purpose, they have established a connection with the MySQL database using Python. In order to perform a task they need to communicate with the database. \n",
    "\n",
    "You are tasked to help Little Lemon set up their database in use and confirm the existence of tables to perform tasks. This needs to happen according to their requirements in their Python-based application. "
   ]
  },
  {
   "cell_type": "markdown",
   "id": "ccebba33-393d-4686-8489-18fef3972aec",
   "metadata": {},
   "source": [
    "## Task 1\n",
    "\n",
    "Little Lemon is restructuring its database and they are interested to know what existing tables are in the database. You need to help them retrieve the names of all the existing tables in their database. \n",
    "\n",
    "To access the names of the existing tables in the Little Lemon database, set the database `little_lemon` in use. Then, create a cursor object and execute `SHOW TABLES` to retrieve the names of the tables in the database. Fetch all the names in a variable and use the `for` loop to print the output.    \n",
    "\n",
    "**TIP:** Create the standard “cursor” object with the default set of arguments. This is done by invoking the cursor module on the connection that works with the MySQL database using Python. "
   ]
  },
  {
   "cell_type": "code",
   "execution_count": null,
   "id": "8e714882-7a68-4527-8afe-23604a1833a4",
   "metadata": {},
   "outputs": [],
   "source": [
    "# Create a cursor object\n",
    "cursor = connection.cursor()"
   ]
  },
  {
   "cell_type": "code",
   "execution_count": null,
   "id": "234c1bb3-5b5b-43ef-933b-1319179efcac",
   "metadata": {},
   "outputs": [],
   "source": [
    "type(cursor)"
   ]
  },
  {
   "cell_type": "code",
   "execution_count": null,
   "id": "a0ee5a1b-b6b2-46d8-afe2-638ee625dee0",
   "metadata": {},
   "outputs": [],
   "source": [
    "# Set the “little_lemon” database for use\n",
    "cursor.execute(\"\"\"USE little_lemon\"\"\")\n",
    "print(\"The database in use is: \", connection.database)"
   ]
  },
  {
   "cell_type": "code",
   "execution_count": null,
   "id": "1f693660-9b27-4ab9-b98e-1fc990ac5b3c",
   "metadata": {},
   "outputs": [],
   "source": [
    "# Get the names of all the tables using SQL query\n",
    "cursor.execute(\"\"\"SHOW TABLES;\"\"\")"
   ]
  },
  {
   "cell_type": "code",
   "execution_count": null,
   "id": "be9caf37-18da-4849-8395-6d5870d83e11",
   "metadata": {},
   "outputs": [],
   "source": [
    "# Retrieve query results in a variable ‘results’\n",
    "results = cursor.fetchall()"
   ]
  },
  {
   "cell_type": "code",
   "execution_count": null,
   "id": "92f5a112-c4ca-4dc3-b85a-8c289ca0d136",
   "metadata": {},
   "outputs": [],
   "source": [
    "# Use for loop to print the names of all the tables \n",
    "for table in results:\n",
    "    print(table)"
   ]
  },
  {
   "cell_type": "markdown",
   "id": "04f8c7e1-1220-4038-b2dd-25fc926013bd",
   "metadata": {},
   "source": [
    "## Task 2\n",
    "\n",
    "Creating the cursor is an important step to communicate with the entire MySQL database using Python.  \n",
    "\n",
    "You have learned about the different approaches to creating cursors and it depends on your application which approaches you will follow for resource optimization.  \n",
    "\n",
    "Run a test between the standard and the buffered cursor to check what type of cursor will work for the situation given below: \n",
    "\n",
    "* Create a cursor \n",
    "* Execute `USE little_lemon` \n",
    "* Execute `SELECT * FROM Bookings` \n",
    "* Execute `SELECT * FROM Orders` "
   ]
  },
  {
   "cell_type": "markdown",
   "id": "93ef3c54-be8c-4453-b92a-0d7630353af7",
   "metadata": {},
   "source": [
    "### Standard "
   ]
  },
  {
   "cell_type": "code",
   "execution_count": null,
   "id": "74dea48b-65b7-42ad-9ae9-4a862653f0fe",
   "metadata": {},
   "outputs": [],
   "source": [
    "# Establish connection between Python and MySQL database via connector API\n",
    "connection=connector.connect(\n",
    "                             user=\"root\",\n",
    "                             password=\"\",\n",
    "                            )\n",
    "\n",
    "# Create a cursor object\n",
    "cursor = connection.cursor()\n",
    "\n",
    "# Set the “little_lemon” database for use\n",
    "cursor.execute(\"\"\"USE little_lemon;\"\"\")\n",
    "print(\"The little_lemon database is set for use.\")\n",
    "\n",
    "# Retrieve records from bookings\n",
    "cursor.execute(\"\"\"SELECT * FROM Bookings;\"\"\")\n",
    "bookings = cursor.fetchall()\n",
    "print(\"All records from Bookings table are retrieved.\")\n",
    "for record in bookings:\n",
    "    print(record)\n",
    "\n",
    "# Retrieve records from orders\n",
    "cursor.execute(\"\"\"SELECT * FROM Orders;\"\"\")\n",
    "orders = cursor.fetchall()\n",
    "print(\"All records from Orders table are retrieved.\")\n",
    "for record in orders:\n",
    "    print(record)"
   ]
  },
  {
   "cell_type": "markdown",
   "id": "d560cf3d-d38f-43db-bacb-a2afdce2162a",
   "metadata": {},
   "source": [
    "### Buffered "
   ]
  },
  {
   "cell_type": "code",
   "execution_count": null,
   "id": "dc95f959-200b-4407-9531-b5b52d03e65d",
   "metadata": {},
   "outputs": [],
   "source": [
    "# Establish connection between Python and MySQL database via connector API\n",
    "connection=connector.connect(\n",
    "                             user=\"root\",\n",
    "                             password=\"\",\n",
    "                            )\n",
    "\n",
    "# Create a cursor object\n",
    "cursor = connection.cursor(buffered = True)\n",
    "\n",
    "# Set the “little_lemon” database for use\n",
    "cursor.execute(\"\"\"USE little_lemon;\"\"\")\n",
    "print(\"The little_lemon database is set for use.\")\n",
    "\n",
    "# Retrieve records from bookings\n",
    "cursor.execute(\"\"\"SELECT * FROM Bookings;\"\"\")\n",
    "print(\"All records from Bookings table are retrieved.\")\n",
    "\n",
    "# Retrieve records from orders\n",
    "cursor.execute(\"\"\"SELECT * FROM Orders;\"\"\")\n",
    "print(\"All records from Orders table are retrieved.\")"
   ]
  },
  {
   "cell_type": "markdown",
   "id": "5b0c4e98-afd7-4a2f-82d7-d1867047281b",
   "metadata": {},
   "source": [
    "## Task 3\n",
    "\n",
    "Little Lemon will have multiple databases soon. They need to plan for a scalable solution.  This information can be tracked in a Python dictionary. A dictionary cursor will be helpful as it returns a dictionary object.  \n",
    "\n",
    "Create a cursor with argument `[dictionary = True]` and retrieve the names of all the tables in the form of a dictionary object where the name of the tables is a value, and the database name is a key.  \n",
    "\n",
    "**TIP:** Explore the arguments that you can pass to the cursor module. "
   ]
  },
  {
   "cell_type": "code",
   "execution_count": null,
   "id": "f5571c8e-3b0a-4eb9-823e-5175d6751bcc",
   "metadata": {},
   "outputs": [],
   "source": [
    "# Create a cursor object with dictionary=True\n",
    "dic_cursor=connection.cursor(dictionary=True)"
   ]
  },
  {
   "cell_type": "code",
   "execution_count": null,
   "id": "30bdf14d-f0cd-4a42-bf8a-c9d1bb688ddb",
   "metadata": {},
   "outputs": [],
   "source": [
    "type(cursor)"
   ]
  },
  {
   "cell_type": "code",
   "execution_count": null,
   "id": "8b5388e2-dc2e-4df2-a713-ce3ff5661103",
   "metadata": {},
   "outputs": [],
   "source": [
    "# Set database in use\n",
    "dic_cursor.execute(\"use little_lemon\")\n",
    "\n",
    "# Execute SQL query to get the name of the tables\n",
    "dic_cursor.execute(\"show tables;\")\n",
    "\n",
    "# Retrieve query results in a variable ‘results’\n",
    "results = dic_cursor.fetchall()\n",
    "\n",
    "# Use for loop to print the names of all the tables \n",
    "for table in results:\n",
    "    print(table)"
   ]
  },
  {
   "cell_type": "code",
   "execution_count": null,
   "id": "4261cb06-75ad-44d2-8dfe-277ef4ad44cf",
   "metadata": {},
   "outputs": [],
   "source": [
    "# Let's close the cursor and the connection\n",
    "if connection.is_connected():\n",
    "    cursor.close()\n",
    "    print(\"The cursor is closed.\")\n",
    "    connection.close()\n",
    "    print(\"MySQL connection is closed.\")\n",
    "else:\n",
    "    print(\"Connection is already closed\")"
   ]
  }
 ],
 "metadata": {
  "kernelspec": {
   "display_name": "Python 3 (ipykernel)",
   "language": "python",
   "name": "python3"
  },
  "language_info": {
   "codemirror_mode": {
    "name": "ipython",
    "version": 3
   },
   "file_extension": ".py",
   "mimetype": "text/x-python",
   "name": "python",
   "nbconvert_exporter": "python",
   "pygments_lexer": "ipython3",
   "version": "3.12.4"
  }
 },
 "nbformat": 4,
 "nbformat_minor": 5
}
