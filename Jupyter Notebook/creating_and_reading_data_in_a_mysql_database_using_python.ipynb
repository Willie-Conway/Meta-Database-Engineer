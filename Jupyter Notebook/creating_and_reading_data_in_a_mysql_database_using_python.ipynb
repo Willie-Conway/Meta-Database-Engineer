{
 "cells": [
  {
   "cell_type": "code",
   "execution_count": 1,
   "id": "25812310-35c2-4be7-9954-cc05fe5d6ce9",
   "metadata": {},
   "outputs": [],
   "source": [
    "import mysql.connector as connector"
   ]
  },
  {
   "cell_type": "code",
   "execution_count": 2,
   "id": "58cdf881-ba3e-4ad2-822f-5bfc0a00b669",
   "metadata": {},
   "outputs": [],
   "source": [
    "connection = connector.connect(user=\"mario\", password=\"cuisine\")"
   ]
  },
  {
   "cell_type": "code",
   "execution_count": 3,
   "id": "c307f312-266f-47c8-b814-c1af46136c64",
   "metadata": {},
   "outputs": [],
   "source": [
    "cursor=connection.cursor()"
   ]
  },
  {
   "cell_type": "code",
   "execution_count": 4,
   "id": "9b713dde-1e78-4b73-ba37-4db5e982e82f",
   "metadata": {},
   "outputs": [],
   "source": [
    "cursor.execute(\"USE little_lemon\")"
   ]
  },
  {
   "cell_type": "code",
   "execution_count": 5,
   "id": "ee3f3b36-1cd3-4bf7-a022-5b2a4ecadf19",
   "metadata": {},
   "outputs": [],
   "source": [
    "my_sql_insert_query=\"\"\"\n",
    "INSERT INTO bookings\n",
    "(GuestFirstName, GuestLastName, TableNo, BookingSlot, EmployeeID)\n",
    "VALUES\n",
    "('Marcos','Romero','2','19:00',5)\n",
    "\"\"\""
   ]
  },
  {
   "cell_type": "code",
   "execution_count": 6,
   "id": "e33edb97-17b9-4eca-83ba-5df6e4dff8cf",
   "metadata": {},
   "outputs": [],
   "source": [
    "cursor.execute(my_sql_insert_query)"
   ]
  },
  {
   "cell_type": "code",
   "execution_count": 7,
   "id": "ed6719a3-0857-4b79-bf39-69029ada8503",
   "metadata": {},
   "outputs": [],
   "source": [
    "connection.commit()"
   ]
  },
  {
   "cell_type": "code",
   "execution_count": 8,
   "id": "1610ee26-5e9c-46cb-b56c-605282b506cb",
   "metadata": {},
   "outputs": [],
   "source": [
    "read_data_query=\"\"\"SELECT * FROM bookings\"\"\""
   ]
  },
  {
   "cell_type": "code",
   "execution_count": 9,
   "id": "1ec352ad-e8c9-48d9-a5d1-a02e8f8e690e",
   "metadata": {},
   "outputs": [],
   "source": [
    "cursor.execute(read_data_query)"
   ]
  },
  {
   "cell_type": "code",
   "execution_count": 10,
   "id": "898cda63-e8e8-49b0-808c-c5045495a867",
   "metadata": {},
   "outputs": [],
   "source": [
    "result=cursor.fetchall()"
   ]
  },
  {
   "cell_type": "code",
   "execution_count": 11,
   "id": "0d6a9ac6-1980-42f6-9390-02d5409c7e69",
   "metadata": {},
   "outputs": [
    {
     "name": "stdout",
     "output_type": "stream",
     "text": [
      "[(1, 12, 'Anna', 'Iversen', datetime.timedelta(seconds=68400), 1), (2, 12, 'Joakim', 'Iversen', datetime.timedelta(seconds=68400), 1), (3, 19, 'Vanessa', 'McCarthy', datetime.timedelta(seconds=54000), 3), (4, 15, 'Marcos', 'Romero', datetime.timedelta(seconds=63000), 4), (5, 5, 'Hiroki', 'Yamane', datetime.timedelta(seconds=66600), 2), (6, 8, 'Diana', 'Pinto', datetime.timedelta(seconds=72000), 5), (7, 2, 'Marcos', 'Romero', datetime.timedelta(seconds=68400), 5)]\n"
     ]
    }
   ],
   "source": [
    "print(result)"
   ]
  },
  {
   "cell_type": "code",
   "execution_count": 12,
   "id": "abdf7a49-6b68-4931-a125-e7be318a06a6",
   "metadata": {},
   "outputs": [],
   "source": [
    "columns=cursor.column_names"
   ]
  }
 ],
 "metadata": {
  "kernelspec": {
   "display_name": "Python 3 (ipykernel)",
   "language": "python",
   "name": "python3"
  },
  "language_info": {
   "codemirror_mode": {
    "name": "ipython",
    "version": 3
   },
   "file_extension": ".py",
   "mimetype": "text/x-python",
   "name": "python",
   "nbconvert_exporter": "python",
   "pygments_lexer": "ipython3",
   "version": "3.12.4"
  }
 },
 "nbformat": 4,
 "nbformat_minor": 5
}
