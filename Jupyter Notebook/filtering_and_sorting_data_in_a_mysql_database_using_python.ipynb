{
 "cells": [
  {
   "cell_type": "code",
   "execution_count": 1,
   "id": "77b086f7-c709-4306-93d3-de5afdb10c48",
   "metadata": {},
   "outputs": [],
   "source": [
    "import mysql.connector as connector"
   ]
  },
  {
   "cell_type": "code",
   "execution_count": 2,
   "id": "0fcd3a94-23e3-41f1-9cc6-425db1bc6115",
   "metadata": {},
   "outputs": [],
   "source": [
    "my_sql_query=\"\"\"\n",
    "SELECT BookingID, BillAmount\n",
    "FROM Orders\n",
    "WHERE BillAmount>=40\n",
    "ORDER BY BillAmount ASC\n",
    "\"\"\""
   ]
  },
  {
   "cell_type": "code",
   "execution_count": 3,
   "id": "c0ac7521-e975-44e8-9d84-b2ae7764e665",
   "metadata": {},
   "outputs": [],
   "source": [
    "connection=connector.connect(user=\"mario\", password=\"cuisine\")"
   ]
  },
  {
   "cell_type": "code",
   "execution_count": 4,
   "id": "25f5e912-e457-44fb-a177-dee509c4d2f2",
   "metadata": {},
   "outputs": [],
   "source": [
    "cursor=connection.cursor()"
   ]
  },
  {
   "cell_type": "code",
   "execution_count": null,
   "id": "ce20f314-9a84-4829-bc6c-c6647cb8ea1b",
   "metadata": {},
   "outputs": [],
   "source": [
    "cursor.execute(\"USE little_lemon\")"
   ]
  },
  {
   "cell_type": "code",
   "execution_count": null,
   "id": "bf77ee69-bb9f-40e2-b38b-f0032a17fdc8",
   "metadata": {},
   "outputs": [],
   "source": [
    "cursor.execute(my_sql_query)"
   ]
  },
  {
   "cell_type": "code",
   "execution_count": null,
   "id": "dfa2d68c-b03d-4cdd-bf3b-94281411bf3f",
   "metadata": {},
   "outputs": [],
   "source": [
    "results=cursor.fetchall()"
   ]
  },
  {
   "cell_type": "code",
   "execution_count": null,
   "id": "7a455235-0958-45fa-bd38-f13537a86352",
   "metadata": {},
   "outputs": [],
   "source": []
  }
 ],
 "metadata": {
  "kernelspec": {
   "display_name": "Python 3 (ipykernel)",
   "language": "python",
   "name": "python3"
  },
  "language_info": {
   "codemirror_mode": {
    "name": "ipython",
    "version": 3
   },
   "file_extension": ".py",
   "mimetype": "text/x-python",
   "name": "python",
   "nbconvert_exporter": "python",
   "pygments_lexer": "ipython3",
   "version": "3.12.4"
  }
 },
 "nbformat": 4,
 "nbformat_minor": 5
}
