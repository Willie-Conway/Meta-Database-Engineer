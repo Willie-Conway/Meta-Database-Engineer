{
 "cells": [
  {
   "cell_type": "code",
   "execution_count": 1,
   "id": "b734df17-49fa-4742-afb4-e7a1d40f5cc9",
   "metadata": {},
   "outputs": [],
   "source": [
    "import mysql.connector as connector"
   ]
  },
  {
   "cell_type": "code",
   "execution_count": 2,
   "id": "95a26550-f5bc-4a54-93ae-a17a7a77f6c3",
   "metadata": {},
   "outputs": [],
   "source": [
    "connection = connector.connect(user=\"mario\", password=\"cuisine\")"
   ]
  },
  {
   "cell_type": "code",
   "execution_count": 3,
   "id": "bf0bbea7-706b-4986-a6f2-fe52720736bd",
   "metadata": {},
   "outputs": [],
   "source": [
    "cursor = connection.cursor()"
   ]
  },
  {
   "cell_type": "code",
   "execution_count": 4,
   "id": "d236aa0a-19f6-4419-af62-5f0dc7c80390",
   "metadata": {},
   "outputs": [],
   "source": [
    "cursor.execute(\"USE little_lemon\")"
   ]
  },
  {
   "cell_type": "code",
   "execution_count": 5,
   "id": "6e92f276-ef71-4168-ac25-f246d0f1e9b4",
   "metadata": {},
   "outputs": [],
   "source": [
    "from mysql.connector.pooling import MySQLConnectionPool"
   ]
  },
  {
   "cell_type": "code",
   "execution_count": 6,
   "id": "aaed7911-cf5e-45e5-bd68-dd5e1759139a",
   "metadata": {},
   "outputs": [],
   "source": [
    "pool=MySQLConnectionPool(pool_name=\"little_lemon_pool\",\n",
    "                        pool_size=4,\n",
    "                        host='localhost',\n",
    "                        database='little_lemon',\n",
    "                        user='mario',\n",
    "                        password='cuisine')"
   ]
  },
  {
   "cell_type": "code",
   "execution_count": 7,
   "id": "87e1ad49-9636-433c-a3a6-a608851893ae",
   "metadata": {},
   "outputs": [],
   "source": [
    "users=['mary','john','micheal','tony']"
   ]
  },
  {
   "cell_type": "code",
   "execution_count": 8,
   "id": "c2c9ee3b-5bec-4980-924d-6fcbed6a4820",
   "metadata": {},
   "outputs": [],
   "source": [
    "select_stmt=\"SELECT * FROM bookings WHERE BookingID=%(booking_id)s\""
   ]
  },
  {
   "cell_type": "code",
   "execution_count": 9,
   "id": "12d1817d-477d-4592-880e-e9c6276c1eb6",
   "metadata": {},
   "outputs": [
    {
     "name": "stdout",
     "output_type": "stream",
     "text": [
      "The connection id for mary 70 is reqesting info on booking 1\n",
      "[(1, 12, 'Anna', 'Iversen', datetime.timedelta(seconds=68400), 1)]\n",
      "The connection id for john 71 is reqesting info on booking 2\n",
      "[(2, 12, 'Joakim', 'Iversen', datetime.timedelta(seconds=68400), 1)]\n",
      "The connection id for micheal 72 is reqesting info on booking 3\n",
      "[(3, 19, 'Vanessa', 'McCarthy', datetime.timedelta(seconds=54000), 3)]\n",
      "The connection id for tony 73 is reqesting info on booking 4\n",
      "[(4, 15, 'Marcos', 'Romero', datetime.timedelta(seconds=63000), 4)]\n"
     ]
    }
   ],
   "source": [
    "for i in range(pool.pool_size):\n",
    "    conn=pool.get_connection()\n",
    "    if conn.is_connected:\n",
    "        cursor=conn.cursor()\n",
    "        print(\"The connection id for {} {} is reqesting info on booking {}\"\n",
    "             .format(users[i],conn.connection_id,i+1))\n",
    "        cursor.execute(select_stmt, {'booking_id':i+1})\n",
    "        print(cursor.fetchall())\n",
    "    else:\n",
    "        print(\"no live connection made\")\n",
    "    conn.close()"
   ]
  }
 ],
 "metadata": {
  "kernelspec": {
   "display_name": "Python 3 (ipykernel)",
   "language": "python",
   "name": "python3"
  },
  "language_info": {
   "codemirror_mode": {
    "name": "ipython",
    "version": 3
   },
   "file_extension": ".py",
   "mimetype": "text/x-python",
   "name": "python",
   "nbconvert_exporter": "python",
   "pygments_lexer": "ipython3",
   "version": "3.12.4"
  }
 },
 "nbformat": 4,
 "nbformat_minor": 5
}
