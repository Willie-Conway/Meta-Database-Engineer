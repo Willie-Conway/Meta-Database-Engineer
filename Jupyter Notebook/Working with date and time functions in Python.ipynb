{
 "cells": [
  {
   "cell_type": "markdown",
   "id": "f814f901-f581-4f5b-889c-7f702277e23d",
   "metadata": {},
   "source": [
    "## Date and time using Python"
   ]
  },
  {
   "cell_type": "markdown",
   "id": "6101070f-4356-4f29-ac24-c4ac322cb678",
   "metadata": {},
   "source": [
    "## Prerequisites: \n",
    "\n",
    "To complete this lab, you must have access to the `little_lemon` database. As an authorized user, you need to establish a connection between Python and the database via the MySQL Connector/Python API and create a `cursor` object using the following code: "
   ]
  },
  {
   "cell_type": "code",
   "execution_count": null,
   "id": "5e883012-86be-48cc-b835-052d59531c36",
   "metadata": {},
   "outputs": [],
   "source": [
    "import mysql.connector as connector"
   ]
  },
  {
   "cell_type": "code",
   "execution_count": null,
   "id": "4074d834-f556-4569-b21f-a2e6aab1390a",
   "metadata": {},
   "outputs": [],
   "source": [
    "# Establish connection between Python and MySQL database via MySQL Connector/Python API\n",
    "connection=connector.connect(\n",
    "                             user=\"root\",\n",
    "                             password=\"\",\n",
    "                            )"
   ]
  },
  {
   "cell_type": "code",
   "execution_count": null,
   "id": "3a3e1dd1-a897-4f7f-a30e-5e90b2b15821",
   "metadata": {},
   "outputs": [],
   "source": [
    "# Create cursor object to communicate with entire MySQL database\n",
    "cursor = connection.cursor()"
   ]
  },
  {
   "cell_type": "markdown",
   "id": "4918d987-0060-4f61-ba49-47d28975d167",
   "metadata": {},
   "source": [
    "Once the connection is established and you have a cursor object, you can select the database `little_lemon` using the code below and work with the respective table to complete the required tasks.  "
   ]
  },
  {
   "cell_type": "code",
   "execution_count": null,
   "id": "e24bae0e-c5f3-4e3f-aeaf-9f12d9b3b6a7",
   "metadata": {},
   "outputs": [],
   "source": [
    "# Set the little_lemon database for use \n",
    "cursor.execute(\"use little_lemon\")\n",
    "\n",
    "# Confirm the datbase in use\n",
    "connection.database"
   ]
  },
  {
   "cell_type": "markdown",
   "id": "4f8c7514-1763-4ced-826d-715496e72c3c",
   "metadata": {},
   "source": [
    "## Scenario: \n",
    "\n",
    "Little Lemon needs to schedule its staff’s duties according to the restaurant’s peak hours. They also want to display the guest’s name and their expected arrival time kitchen screen to keep the staff informed. These and several other similar tasks, such as changing the booking time, require working with the date and time column.  \n",
    "\n",
    "You are tasked to help Little Lemon work with the date and time columns using Python for their Python-based application. "
   ]
  },
  {
   "cell_type": "markdown",
   "id": "7369b989-d30d-405b-9d03-60f24b0e8287",
   "metadata": {},
   "source": [
    "## Task 1\n",
    "\n",
    "Little Lemon wants to retrieve the number of bookings in each hour so that they can schedule the staff duties accordingly. Use the following steps as a guide to complete this task:  \n",
    "\n",
    "* Target the “BookingID” and “BookingSlot” columns from the “Bookings” table.  \n",
    "* Extract the hour from the “BookingSlot” column and count the bookings in each hour. \n",
    "* Group and order the data by hour.  \n",
    "\n",
    "**TIP:** Use MySQL `HOUR`, `COUNT`, `GROUP BY` and `ORDER BY` to accomplish the task. "
   ]
  },
  {
   "cell_type": "code",
   "execution_count": null,
   "id": "27894a65-b8e6-4ea8-8d84-847aea864b35",
   "metadata": {},
   "outputs": [],
   "source": [
    "# Read query \n",
    "#all_bookings = \"\"\"SELECT GuestFirstName, GuestLastName, \n",
    "#TableNo FROM bookings;\"\"\"\n",
    "\n",
    "\n",
    "# The SQL query is:\n",
    "sql_query = \"\"\"SELECT \n",
    "COUNT(BookingID) AS n_bookings,\n",
    "HOUR(BookingSlot) AS Hour \n",
    "FROM Bookings\n",
    "GROUP BY Hour\n",
    "ORDER BY Hour ASC;\"\"\"\n",
    "\n",
    "# Execute the query \n",
    "cursor.execute(sql_query)\n",
    "\n",
    "# Fetch all results that satisfy the query \n",
    "results = cursor.fetchall()\n",
    "\n",
    "# Print records in the required format using for loop\n",
    "print(\"\"\"Upcoming Bookings:\\n\"\"\")\n",
    "#print(cols)\n",
    "for result in results:\n",
    "    print(\"Hour: \",result[1],\"<<>>\", result[0], \"Booking/s\")"
   ]
  },
  {
   "cell_type": "markdown",
   "id": "1b72cab4-1269-4c25-ae4a-0d037dc675d8",
   "metadata": {},
   "source": [
    "## Task 2\n",
    "\n",
    "Little Lemon needs to display the following information in the staff’s room: \n",
    "\n",
    "* Table number \n",
    "* Guest’s full name \n",
    "* Arrival time in hours and minutes (e.g., 15 hours and 0 mins) \n",
    "\n",
    "Help Little Lemon to retrieve and display the required information. Use the following steps as a guide to complete this task: \n",
    "\n",
    "* Target `TableNo`, `GuestFirstName`, `GuestLastName` and `BookingSlot` columns in the `Bookings` table.  \n",
    "* Order the data by `BookingSlot`.  \n",
    "* Use Python’s `datetime` module to extract hours and minutes using the `strptime` function when printing the record.  "
   ]
  },
  {
   "cell_type": "code",
   "execution_count": null,
   "id": "e852ce1f-457c-4b53-bfbc-3447462dddc8",
   "metadata": {},
   "outputs": [],
   "source": [
    "import datetime as dt\n",
    "\n",
    "# The SQL query is: \n",
    "sql_query = \"\"\"SELECT \n",
    "TableNo, \n",
    "GuestFirstName, \n",
    "GuestLastName, \n",
    "BookingSlot \n",
    "FROM Bookings \n",
    "ORDER BY BookingSlot;\"\"\"\n",
    "\n",
    "# Execute query \n",
    "cursor.execute(sql_query)\n",
    "\n",
    "# Fetch all results that satisfy the query \n",
    "results = cursor.fetchall()\n",
    "\n",
    "# Print records in the required format\n",
    "print(\"The guests and their booking slots are:\\n\")\n",
    "for result in results: \n",
    "    time = str(result[3])\n",
    "    hour = dt.datetime.strptime(time,'%H:%M:%S').hour\n",
    "    minute = dt.datetime.strptime(time,'%H:%M:%S').minute\n",
    "    print(\"[Table no:]\",result[0],\">>\",result[1],result[2], \"is expected to arrive at:\", \n",
    "          hour,\"hrs and\", minute, \"mins\")"
   ]
  },
  {
   "cell_type": "markdown",
   "id": "add5a83c-eb1d-46b2-a874-83ab1af65188",
   "metadata": {},
   "source": [
    "## Task 3\n",
    "\n",
    "A guest with booking ID 2 and table number 12 wants to change the arrival time by one hour. Help Little Lemon to make this change using Python in their application. Use the following steps as a guide to complete this task: \n",
    "\n",
    "* Target `BookingID`, `TableNo` and `BookingSlot` columns in the `Bookings` table.  \n",
    "* Add one hour in the “BookingSlot”.  \n",
    "* Use the `WHERE` clause on `TableNo` and `BookingID` columns.  "
   ]
  },
  {
   "cell_type": "code",
   "execution_count": null,
   "id": "604f9ce0-6834-4648-96d7-2fb15a23fde6",
   "metadata": {},
   "outputs": [],
   "source": [
    "#SELECT *, ADDTIME(ScheduledlArrivalTime, \"00:10:00\") \n",
    "#AS ExpectedArrivalTime FROM ScheduleDetails;"
   ]
  },
  {
   "cell_type": "code",
   "execution_count": null,
   "id": "6781fb69-c268-4f41-a6f2-36182682e367",
   "metadata": {},
   "outputs": [],
   "source": [
    "\n",
    "\"\"\"UPDATE Bookings \n",
    "SET BookingSlot=ADDTIME(BookingSlot,\"1:00:00\") \n",
    "WHERE BookingID=2;\"\"\"\n",
    "\n",
    "# The SQL query is: \n",
    "sql_query = \"\"\"SELECT \n",
    "BookingID, \n",
    "TableNo, \n",
    "BookingSlot, \n",
    "ADDTIME(BookingSlot,\"1:00:00\") as NewTime \n",
    "FROM Bookings\n",
    "WHERE TableNo = 12 AND BookingID = 2;\"\"\"\n",
    "\n",
    "# Execute query \n",
    "cursor.execute(sql_query)\n",
    "\n",
    "# Fetch all results that satisfy the query \n",
    "results = cursor.fetchall()\n",
    "\n",
    "# Print time change alert.\n",
    "print(\"Booking time change ALERT!!\")\n",
    "for result in results:  \n",
    "    print(\"Booking ID:\",result[0])\n",
    "    print(\"Table number:\",result[1])\n",
    "    print(\"Booked slot:\",result[2])\n",
    "    print(\"New arrival time:\",result[3])"
   ]
  },
  {
   "cell_type": "code",
   "execution_count": null,
   "id": "b5b5bc79-ffb7-479c-bd2e-b790cbb6a1bc",
   "metadata": {},
   "outputs": [],
   "source": [
    "# Let's close the cursor and the connection\n",
    "if connection.is_connected():\n",
    "    cursor.close()\n",
    "    print(\"The cursor is closed.\")\n",
    "    connection.close()\n",
    "    print(\"MySQL connection is closed.\")\n",
    "else:\n",
    "    print(\"Connection is already closed\")"
   ]
  }
 ],
 "metadata": {
  "kernelspec": {
   "display_name": "Python 3 (ipykernel)",
   "language": "python",
   "name": "python3"
  },
  "language_info": {
   "codemirror_mode": {
    "name": "ipython",
    "version": 3
   },
   "file_extension": ".py",
   "mimetype": "text/x-python",
   "name": "python",
   "nbconvert_exporter": "python",
   "pygments_lexer": "ipython3",
   "version": "3.12.4"
  }
 },
 "nbformat": 4,
 "nbformat_minor": 5
}
