{
 "cells": [
  {
   "cell_type": "markdown",
   "id": "aa8c5f79-738b-4c81-b68b-870aa496ef94",
   "metadata": {},
   "source": [
    "## Filtering and sorting data"
   ]
  },
  {
   "cell_type": "markdown",
   "id": "d3828318-89a2-4205-a83b-5911865da1b7",
   "metadata": {},
   "source": [
    "## Prerequisites \n",
    "\n",
    "To complete this exercise, you must have access to the `little_lemon` database. You need to `import MySQL Python/Connector` and, as an authorized user, establish a connection between Python and the MySQL database via connector API using the following code: "
   ]
  },
  {
   "cell_type": "code",
   "execution_count": 1,
   "id": "a50aff00-d4cf-4785-8027-d88f0ab524c6",
   "metadata": {},
   "outputs": [],
   "source": [
    "import mysql.connector as connector"
   ]
  },
  {
   "cell_type": "code",
   "execution_count": 2,
   "id": "2efb4ff0-6691-45d9-9f31-a98141cc2b91",
   "metadata": {},
   "outputs": [],
   "source": [
    "# Establish connection b/w Python and MySQL database via connector API\n",
    "connection=connector.connect(\n",
    "                             user=\"root\", # use your own\n",
    "                             password=\"Admin@LL123!\", # use your own\n",
    "                            )"
   ]
  },
  {
   "cell_type": "markdown",
   "id": "e3b7b820-2814-410f-b74b-b606842d2c86",
   "metadata": {},
   "source": [
    "Once, the connection is established, create a `cursor` object to communicate with the entire MySQL database from your python working environment. "
   ]
  },
  {
   "cell_type": "code",
   "execution_count": 3,
   "id": "e2a90f2c-45b4-43d0-9fc8-b2889feb300f",
   "metadata": {},
   "outputs": [],
   "source": [
    "# Create cursor object to communicate with entire MySQL database\n",
    "cursor = connection.cursor()"
   ]
  },
  {
   "cell_type": "markdown",
   "id": "eaeba66c-7c1b-41c4-b781-a4f279317801",
   "metadata": {},
   "source": [
    "Now, you can select the database `little_lemon` using the code below and work with the respective tables to accomplish the required tasks.  "
   ]
  },
  {
   "cell_type": "code",
   "execution_count": 4,
   "id": "1e34b5db-c4ae-4e60-8b3e-e78a5efbea41",
   "metadata": {},
   "outputs": [
    {
     "data": {
      "text/plain": [
       "'little_lemon'"
      ]
     },
     "execution_count": 4,
     "metadata": {},
     "output_type": "execute_result"
    }
   ],
   "source": [
    "# Set little_lemon for use \n",
    "cursor.execute(\"use little_lemon\")\n",
    "\n",
    "# Confirm the database in use\n",
    "connection.database"
   ]
  },
  {
   "cell_type": "markdown",
   "id": "fb396d06-bc0e-4609-956e-9651c0838f66",
   "metadata": {},
   "source": [
    "## Scenario \n",
    "\n",
    "Little Lemon need to filter and sort the data in their MySQL database using Python to complete the following tasks: \n",
    "\n",
    "* Determine which waiter is serving which guest \n",
    "* Identify all guests who paid a bill amount above a certain threshold \n",
    "* And list all starters above a certain price and order with the price. \n",
    "\n",
    "Help Little Lemon extract this data from their database using filtering and sorting techniques. "
   ]
  },
  {
   "cell_type": "markdown",
   "id": "f473d97d-7428-4dcf-b476-11b0647a8928",
   "metadata": {},
   "source": [
    "## Task 1: \n",
    "\n",
    "Little Lemon need to know how many bookings they have today for table number 12. They also need to know the names of the guests booked for table 12 and who their servers are. \n",
    "\n",
    "Help Little Lemon to complete this task by filtering the records for table 12 from the Bookings table. Show the required records for the following columns in the output: \n",
    "\n",
    "* `TableNo`, \n",
    "* `GuestFirstName`\n",
    "* `GuestLastName`\n",
    "* `EmployeeID`"
   ]
  },
  {
   "cell_type": "markdown",
   "id": "e435f97b-b3fa-4a09-9469-f46871346d9b",
   "metadata": {},
   "source": [
    "**Exercises**"
   ]
  },
  {
   "cell_type": "code",
   "execution_count": 5,
   "id": "b7c734fe-3a74-40ac-9402-37d766d5791c",
   "metadata": {},
   "outputs": [
    {
     "name": "stdout",
     "output_type": "stream",
     "text": [
      "('TableNo', 'GuestFirstName', 'GuestLastName', 'EmployeeID')\n",
      "(12, 'Anna', 'Iversen', 1)\n",
      "(12, 'Joakim', 'Iversen', 1)\n"
     ]
    }
   ],
   "source": [
    "# Task 1\n",
    "# The SQL query is:\n",
    "filtering_and_sorting = \"\"\"SELECT TableNo, \n",
    "GuestFirstName, GuestLastName, EmployeeID  \n",
    "FROM Bookings \n",
    "WHERE TableNo= 12;\"\"\"\n",
    "\n",
    "# Execute query\n",
    "cursor.execute(filtering_and_sorting)\n",
    "\n",
    "# Fetch records \n",
    "results = cursor.fetchall()\n",
    "\n",
    "# Retrieve column names\n",
    "columns = cursor.column_names\n",
    "\n",
    "# Print column names\n",
    "print(columns)\n",
    "\n",
    "# Print query results\n",
    "for result in results:\n",
    "    print(result)"
   ]
  },
  {
   "cell_type": "markdown",
   "id": "608b91a9-24c8-4b4f-9359-b9c0d6da5469",
   "metadata": {},
   "source": [
    "## Task 2: \n",
    "\n",
    "Little lemon wants to send a coupon to all guests who spent more than $40 at the restaurant today.  \n",
    "\n",
    "Help little lemon to filter and sort the records of all quests who qualify for coupon.   \n",
    "\n",
    "\n",
    "**TIP:** Target the `BookingID` and `BillAmount` columns in the `Orders` table. Sort the data based on `BillAmount` in `DESC`. \n",
    "\n",
    "Use a fetch module on the cursor or set the limit in your SQL query. "
   ]
  },
  {
   "cell_type": "code",
   "execution_count": 6,
   "id": "ef0356c1-4266-46da-97e3-e32fded1e19f",
   "metadata": {},
   "outputs": [
    {
     "name": "stdout",
     "output_type": "stream",
     "text": [
      "('BookingID', 'BillAmount')\n",
      "(1, 86)\n",
      "(5, 43)\n"
     ]
    }
   ],
   "source": [
    "# Task 2 option 1\n",
    "# Resetting cursor\n",
    "#cursor.fetchall()\n",
    "\n",
    "# The SQL query is:\n",
    "filtering_and_sorting = \"\"\"SELECT BookingID, BillAmount\n",
    "FROM\n",
    "Orders ORDER BY BillAmount DESC;\"\"\"\n",
    "\n",
    "# Execute query\n",
    "cursor.execute(filtering_and_sorting)\n",
    "\n",
    "# Fetch records \n",
    "results = cursor.fetchmany(size=2)#fetchall()\n",
    "\n",
    "# Retrieve column names\n",
    "columns = cursor.column_names\n",
    "\n",
    "# Print column names\n",
    "print(columns)\n",
    "\n",
    "# Print query results\n",
    "for result in results:\n",
    "    print(result)"
   ]
  },
  {
   "cell_type": "code",
   "execution_count": 7,
   "id": "8cbde1be-4e8b-4148-995a-859a6d04a610",
   "metadata": {},
   "outputs": [
    {
     "name": "stdout",
     "output_type": "stream",
     "text": [
      "('BookingID', 'BillAmount')\n",
      "(1, 86)\n",
      "(5, 43)\n"
     ]
    }
   ],
   "source": [
    "# Resetting cursor\n",
    "cursor.fetchall()\n",
    "\n",
    "# Task 2 Option 2\n",
    "\n",
    "# The SQL query is:\n",
    "filtering_and_sorting = \"\"\"SELECT BookingID, BillAmount\n",
    "FROM\n",
    "Orders ORDER BY BillAmount DESC LIMIT 2;\"\"\"\n",
    "\n",
    "# Execute query\n",
    "cursor.execute(filtering_and_sorting)\n",
    "\n",
    "# Fetch records \n",
    "results = cursor.fetchall()\n",
    "\n",
    "# Retrieve column names\n",
    "columns = cursor.column_names\n",
    "\n",
    "# Print column names\n",
    "print(columns)\n",
    "\n",
    "# Print query results\n",
    "for result in results:\n",
    "    print(result)"
   ]
  },
  {
   "cell_type": "markdown",
   "id": "5331f0c4-9ce2-402a-8926-b868830b6468",
   "metadata": {},
   "source": [
    "## Task 3: \n",
    "\n",
    "Little lemon needs to determine what the most and least expensive starters and desserts on their menu items are. \n",
    "\n",
    "Help them out by filtering the menu items and sorting them by price using python.  \n",
    "\n",
    "**TIP:** Filter the records based on the `Type` column in the `MenuItems` table. Sort the records by `Price` column in `DESC` order. "
   ]
  },
  {
   "cell_type": "code",
   "execution_count": 8,
   "id": "1808477a-ee74-4837-94d9-f91c9c25cf41",
   "metadata": {},
   "outputs": [
    {
     "name": "stdout",
     "output_type": "stream",
     "text": [
      "('ItemID', 'Name', 'Type', 'Price')\n",
      "(12, 'Cheesecake', 'Desserts', 4)\n",
      "(1, 'Olives', 'Starters', 5)\n",
      "(2, 'Flatbread', 'Starters', 5)\n",
      "(6, 'Hummus', 'Starters', 5)\n",
      "(11, 'Ice cream', 'Desserts', 6)\n",
      "(5, 'Falafel', 'Starters', 7)\n",
      "(10, 'Greek yoghurt', 'Desserts', 7)\n",
      "(3, 'Minestrone', 'Starters', 8)\n",
      "(4, 'Tomato bread', 'Starters', 8)\n"
     ]
    }
   ],
   "source": [
    "# Task 3\n",
    "\n",
    "# The SQL query is:\n",
    "filtering_and_sorting = \"\"\"SELECT * \n",
    "FROM MenuItems \n",
    "WHERE (Type = 'Starters' OR Type = 'Desserts')\n",
    "ORDER BY Price ASC;\"\"\"\n",
    "\n",
    "# Execute query\n",
    "cursor.execute(filtering_and_sorting)\n",
    "\n",
    "# Fetch records \n",
    "results = cursor.fetchall()\n",
    "\n",
    "# Retrieve column names\n",
    "columns = cursor.column_names\n",
    "\n",
    "# Print column names\n",
    "print(columns)\n",
    "\n",
    "# Print query results\n",
    "for result in results:\n",
    "    print(result)"
   ]
  },
  {
   "cell_type": "code",
   "execution_count": 9,
   "id": "195a8c14-8a6a-4a00-9b31-ec32430d1f28",
   "metadata": {},
   "outputs": [
    {
     "name": "stdout",
     "output_type": "stream",
     "text": [
      "The cursor is closed.\n",
      "MySQL connection is closed.\n"
     ]
    }
   ],
   "source": [
    "# Let's close the cursor and the connection\n",
    "if connection.is_connected():\n",
    "    cursor.close()\n",
    "    print(\"The cursor is closed.\")\n",
    "    connection.close()\n",
    "    print(\"MySQL connection is closed.\")\n",
    "else:\n",
    "    print(\"Connection is already closed\")"
   ]
  },
  {
   "cell_type": "code",
   "execution_count": null,
   "id": "ebcab18d-6672-4c61-b23e-2b3b83f2a4c7",
   "metadata": {},
   "outputs": [],
   "source": []
  }
 ],
 "metadata": {
  "kernelspec": {
   "display_name": "Python 3 (ipykernel)",
   "language": "python",
   "name": "python3"
  },
  "language_info": {
   "codemirror_mode": {
    "name": "ipython",
    "version": 3
   },
   "file_extension": ".py",
   "mimetype": "text/x-python",
   "name": "python",
   "nbconvert_exporter": "python",
   "pygments_lexer": "ipython3",
   "version": "3.12.4"
  }
 },
 "nbformat": 4,
 "nbformat_minor": 5
}
