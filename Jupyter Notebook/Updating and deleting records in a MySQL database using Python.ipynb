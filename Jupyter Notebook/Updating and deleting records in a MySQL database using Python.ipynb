{
 "cells": [
  {
   "cell_type": "markdown",
   "id": "dc6140d5-ba9b-4a87-ad0d-55c2158c1979",
   "metadata": {},
   "source": [
    "## Updating and deleting records in a MySQL database using Python"
   ]
  },
  {
   "cell_type": "markdown",
   "id": "328ca271-d134-49bd-8622-70ea3763f5a3",
   "metadata": {},
   "source": [
    " \n",
    "## Prerequisite \n",
    "\n",
    "To complete this exercise, you must have access to the `little_lemon` database. As an authorized user, you need to establish a connection between Python and the database via the connector API and create a `cursor` object using the following code:"
   ]
  },
  {
   "cell_type": "code",
   "execution_count": null,
   "id": "d2b61986-d2a7-4f12-9333-6ff91631a91d",
   "metadata": {},
   "outputs": [],
   "source": [
    "import mysql.connector as connector"
   ]
  },
  {
   "cell_type": "code",
   "execution_count": null,
   "id": "156c53cc-1691-4212-8d51-050c86c27f6b",
   "metadata": {},
   "outputs": [],
   "source": [
    "# Establish connection b/w Python and MySQL database via connector API\n",
    "connection=connector.connect(\n",
    "                             user=\"root\", # use your own\n",
    "                             password=\"\", # use your own\n",
    "                            )"
   ]
  },
  {
   "cell_type": "code",
   "execution_count": null,
   "id": "73d5ee24-f4fa-4f9c-8704-9a3f1554045d",
   "metadata": {},
   "outputs": [],
   "source": [
    "# Create a cursor object to communicate with entire MySQL database\n",
    "cursor = connection.cursor()"
   ]
  },
  {
   "cell_type": "markdown",
   "id": "b9466ecb-f461-4721-adaa-dda959257da0",
   "metadata": {},
   "source": [
    "Once, the connection is established, and you have a cursor object, you can select the database `little_lemon` using the code below and work with the respective table to accomplish the required tasks.  "
   ]
  },
  {
   "cell_type": "code",
   "execution_count": null,
   "id": "d3541261-4e00-40d0-bfa2-5503e38b1d0e",
   "metadata": {},
   "outputs": [],
   "source": [
    "# Set the little_lemon database for use \n",
    "cursor.execute(\"use little_lemon\")\n",
    "\n",
    "# Confirm the database in use\n",
    "connection.database"
   ]
  },
  {
   "cell_type": "markdown",
   "id": "4bde0134-3509-489a-8a3e-953f5fb88f32",
   "metadata": {},
   "source": [
    "## Scenario \n",
    "\n",
    "Little Lemon restaurant need to update the records of customers in their database. They also need to delete records related to menu items. Let’s see if you can help Little Lemon to complete these update and delete tasks using Python. "
   ]
  },
  {
   "cell_type": "markdown",
   "id": "3d3c4f51-ec1f-4b28-9b3f-a4ac7f223d7d",
   "metadata": {},
   "source": [
    "## Task 1:\n",
    "\n",
    "The guest Diana Pinto booked a table for two. She was assigned a Booking ID of 6 and the table number 8. However, she just rang Little Lemon to request a change to her booking. She now needs a table for four guests. \n",
    "\n",
    "You need to update Diana’s booking to table 10 in Little Lemon’s MySQL database using Python. Once you have executed the UPDATE query, use the SELECT statement to read all the data from the bookings table and print using for loop to confirm that the booking has been updated.   "
   ]
  },
  {
   "cell_type": "code",
   "execution_count": null,
   "id": "3e36e01e-6845-4277-b05b-8dff5936653a",
   "metadata": {},
   "outputs": [],
   "source": [
    "# The update query is:\n",
    "update_bookings=\"\"\"UPDATE Bookings\n",
    "SET TableNo=10\n",
    "WHERE BookingID = 6;\"\"\"\n",
    "\n",
    "# Execute the query to update the table\n",
    "print(\"Executing update query\")\n",
    "cursor.execute(update_bookings)\n",
    "\n",
    "# Commit change \n",
    "print(\"Comitting change to the table\")\n",
    "connection.commit()\n",
    "print(\"Record is updated in the table\")"
   ]
  },
  {
   "cell_type": "markdown",
   "id": "673041ee-b4be-4ef3-bfc9-daf5930654a9",
   "metadata": {},
   "source": [
    "The above code updates the records in the “Bookings” table. The print statements are added to track the process. \n",
    "\n",
    "Now, you can read the records from the “Bookings” table to confirm the update using the following code: "
   ]
  },
  {
   "cell_type": "code",
   "execution_count": null,
   "id": "f4805ca1-5397-460a-a7ee-345d13f4345e",
   "metadata": {},
   "outputs": [],
   "source": [
    "# The query to retrieve all bookings is: \n",
    "all_bookings = \"\"\"SELECT * FROM Bookings;\"\"\"\n",
    "\n",
    "# Execute query \n",
    "cursor.execute(all_bookings)\n",
    "\n",
    "# Fetch all results that satisfy the query \n",
    "results = cursor.fetchall()\n",
    "\n",
    "# Retrieve the column names\n",
    "cols = cursor.column_names\n",
    "\n",
    "# print column names and the records from results using for loop\n",
    "print(\"Data in the 'Bookings' table\")\n",
    "print(cols)\n",
    "for result in results:  \n",
    "    print(result)"
   ]
  },
  {
   "cell_type": "markdown",
   "id": "8f926665-34ed-4b1c-8be4-a958edcf6eb2",
   "metadata": {},
   "source": [
    "## Task 2: \n",
    "\n",
    "Little Lemon has encountered a conflict with two bookings. To resolve the conflict, you need to update the record for the guest Joakim Iversen, who has a Booking ID of 2.  \n",
    "\n",
    "Update Joakim’s booking in the MySQL database using Python as follows: \n",
    "\n",
    "* Change the guest’s table number to 11 \n",
    "* Change the `EmployeeID` of the guest’s waiter to 6 \n",
    "\n",
    "This guest’s records must be updated in two locations within the booking table.  Once you have executed the code, view the output using a SELECT statement and print using for loop in python. "
   ]
  },
  {
   "cell_type": "code",
   "execution_count": null,
   "id": "18818285-dd64-4422-ac8a-10f0f7c58252",
   "metadata": {},
   "outputs": [],
   "source": [
    "# The update query is:\n",
    "update_bookings=\"\"\"UPDATE Bookings\n",
    "SET TableNo=11, EmployeeID=6\n",
    "WHERE BookingID = 2;\"\"\"\n",
    "\n",
    "# Execute the query to update the table\n",
    "print(\"Executing update query\")\n",
    "cursor.execute(update_bookings)\n",
    "\n",
    "# Commit change \n",
    "print(\"Comitting change to the table\")\n",
    "connection.commit()\n",
    "print(\"Record is updated in the table\")"
   ]
  },
  {
   "cell_type": "markdown",
   "id": "f74cba91-0e9c-475a-bc0b-6a8d75272c5c",
   "metadata": {},
   "source": [
    "The above code updates the records in the “Bookings” table. The print statements are added to track the process. \n",
    "\n",
    "Now, you can read the records from the “Bookings” table to confirm the update using the following code: "
   ]
  },
  {
   "cell_type": "code",
   "execution_count": null,
   "id": "5497c456-d778-4f29-9103-824f07d721e5",
   "metadata": {},
   "outputs": [],
   "source": [
    "# The query to retrieve all bookings is: \n",
    "all_bookings = \"\"\"SELECT * FROM Bookings;\"\"\"\n",
    "\n",
    "# Execute query \n",
    "cursor.execute(all_bookings)\n",
    "\n",
    "# Fetch all results that satisfy the query \n",
    "results = cursor.fetchall()\n",
    "\n",
    "# Retrieve column names\n",
    "cols = cursor.column_names\n",
    "\n",
    "# Print column names and records from results using for loop\n",
    "print(\"Data in the 'Bookings' table\")\n",
    "print(cols)\n",
    "for result in results:  \n",
    "    print(result)"
   ]
  },
  {
   "cell_type": "markdown",
   "id": "cda44db8-7847-462c-8803-9e1ccd667b13",
   "metadata": {},
   "source": [
    "## Task 3: \n",
    "\n",
    "Little Lemon restaurant didn’t receive their regular supply of ingredients today. This means that they can’t provide any Greek cuisine for their guests. They need to delete all Greek cuisine from their menu until the supply of ingredients is restored. \n",
    "\n",
    "Delete these records from the menu table in the Little Lemon database using Python. Once you have executed the code, view the output. "
   ]
  },
  {
   "cell_type": "code",
   "execution_count": null,
   "id": "91e5fbd4-5a04-4b4b-9f4f-38c74d6d070d",
   "metadata": {},
   "outputs": [],
   "source": [
    "# The SQL query is:\n",
    "delete_query_greek=\"\"\"DELETE FROM Menus WHERE Cuisine = 'Greek'\"\"\"\n",
    "\n",
    "# Execute the query\n",
    "print(\"Executing 'DELETE' query\")\n",
    "cursor.execute(delete_query_greek)\n",
    "\n",
    "# Commit change \n",
    "print(\"Comitting change to the table\")\n",
    "connection.commit()\n",
    "print(\"The table is updated after deletion of the requested records\")"
   ]
  },
  {
   "cell_type": "markdown",
   "id": "b9499929-c174-4b42-a0f0-5c11753a462a",
   "metadata": {},
   "source": [
    "Once, the required records are deleted using the above code, you can run the code below to confirm and print the updated \"Menus\" table."
   ]
  },
  {
   "cell_type": "code",
   "execution_count": null,
   "id": "458ee3bc-55cb-4ddd-88d9-807623464a04",
   "metadata": {},
   "outputs": [],
   "source": [
    "# The query to retrieve records from Menus table is: \n",
    "all_menus = \"\"\"SELECT * FROM Menus;\"\"\"\n",
    "\n",
    "# Execute query \n",
    "cursor.execute(all_menus)\n",
    "\n",
    "# Fetch all results that satisfy the query \n",
    "results = cursor.fetchall()\n",
    "\n",
    "# Retrieve column names\n",
    "cols = cursor.column_names\n",
    "\n",
    "# Print column names and records from results using for loop\n",
    "print(\"\"\"Data in the \"Menu\" table:\"\"\")\n",
    "print(cols)\n",
    "for result in results:\n",
    "    print(result)"
   ]
  },
  {
   "cell_type": "markdown",
   "id": "aae8e4f2-c1d8-4d51-8d94-1a2e4c389115",
   "metadata": {},
   "source": [
    "### Additional on deleting all the records holding NULL values in a certain column."
   ]
  },
  {
   "cell_type": "code",
   "execution_count": null,
   "id": "99870e6c-6c12-4ed2-9d7e-03df0cfc59dd",
   "metadata": {},
   "outputs": [],
   "source": [
    "delete_query_null=\"\"\"DELETE FROM Bookings WHERE TableNo IS NULL;\"\"\"\n",
    "cursor.execute(delete_query_null)\n",
    "\n",
    "connection.commit()"
   ]
  },
  {
   "cell_type": "code",
   "execution_count": null,
   "id": "7a7a7543-6eac-4e73-afee-1bb21a267c56",
   "metadata": {},
   "outputs": [],
   "source": [
    "# Let's close the cursor and the connection\n",
    "if connection.is_connected():\n",
    "    cursor.close()\n",
    "    print(\"The cursor is closed.\")\n",
    "    connection.close()\n",
    "    print(\"MySQL connection is closed.\")\n",
    "else:\n",
    "    print(\"Connection is already closed\")"
   ]
  }
 ],
 "metadata": {
  "kernelspec": {
   "display_name": "Python 3 (ipykernel)",
   "language": "python",
   "name": "python3"
  },
  "language_info": {
   "codemirror_mode": {
    "name": "ipython",
    "version": 3
   },
   "file_extension": ".py",
   "mimetype": "text/x-python",
   "name": "python",
   "nbconvert_exporter": "python",
   "pygments_lexer": "ipython3",
   "version": "3.12.4"
  }
 },
 "nbformat": 4,
 "nbformat_minor": 5
}
